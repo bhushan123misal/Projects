{
  "nbformat": 4,
  "nbformat_minor": 0,
  "metadata": {
    "colab": {
      "name": "Robinhood",
      "provenance": [],
      "collapsed_sections": []
    },
    "kernelspec": {
      "name": "python3",
      "display_name": "Python 3"
    },
    "language_info": {
      "name": "python"
    }
  },
  "cells": [
    {
      "cell_type": "code",
      "metadata": {
        "id": "Idr7S2iCCDPO"
      },
      "source": [
        "!pip install robin_stocks"
      ],
      "execution_count": null,
      "outputs": []
    },
    {
      "cell_type": "code",
      "metadata": {
        "id": "PFB6nU2QB8lg"
      },
      "source": [
        "import pyotp\n",
        "import robin_stocks.robinhood as r"
      ],
      "execution_count": null,
      "outputs": []
    },
    {
      "cell_type": "code",
      "metadata": {
        "id": "lqlfuMJ-B-co"
      },
      "source": [
        "totp  = pyotp.TOTP(\"My2factorAppHere\").now()\n",
        "login = r.login('sample_username','sample_password', mfa_code=totp)"
      ],
      "execution_count": null,
      "outputs": []
    },
    {
      "cell_type": "code",
      "metadata": {
        "id": "TESoOx7A2np3"
      },
      "source": [
        "from trade_algo import algo"
      ],
      "execution_count": null,
      "outputs": []
    },
    {
      "cell_type": "code",
      "metadata": {
        "id": "a2ttBZXjpMsf"
      },
      "source": [
        "available = 10000\n",
        "invested = 0\n",
        "my_stocks = robin_stocks.build_holdings()\n",
        "while True:\n",
        "  input = algo.algo()\n",
        "  if input[0] == 0 and invested > 0.1 :\n",
        "    robin_stocks.order_sell_crypto_limit('DOGE',0.5, input[1])\n",
        "    invested = invested/2\n",
        "    available = available + invested*robin_stocks.build_holdings()[\"DOGE\"]\n",
        "  if input[0] == 1 and available > 10:\n",
        "    robin_stocks.order_by_crypto_by_price('DOGE', available/2)\n",
        "    available = available/2\n",
        "    invested = invested + available/robin_stocks.build_holdings()[\"DOGE\"]"
      ],
      "execution_count": null,
      "outputs": []
    }
  ]
}