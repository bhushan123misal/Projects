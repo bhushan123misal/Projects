{
 "cells": [
  {
   "cell_type": "code",
   "execution_count": 2,
   "metadata": {},
   "outputs": [],
   "source": [
    "import speech_recognition as sr\n",
    "import pyttsx3\n",
    "import datetime\n",
    "import smtplib\n",
    "import webbrowser\n",
    "import wikipedia\n",
    "import ctypes\n",
    "import subprocess"
   ]
  },
  {
   "cell_type": "code",
   "execution_count": 3,
   "metadata": {},
   "outputs": [],
   "source": [
    "#keeps listening to you and invokes the assistant (i.e listen function) when phrase \"hey jarvis\" is called\n",
    "def invoke():\n",
    "    recognizer = sr.Recognizer()\n",
    "    with sr.Microphone() as mic:\n",
    "        audio = recognizer.listen(mic, phrase_time_limit=3)\n",
    "        try:\n",
    "            query = recognizer.recognize_google(audio, language = \"en-in\").lower()\n",
    "            print(\"INVOKED \" + query)\n",
    "            if \"hey jarvis\" in query:\n",
    "                print(\"Invoking Jarvis\")\n",
    "                jarvis = assistant()\n",
    "                return jarvis\n",
    "            if \"stop listening\" in query:\n",
    "                return\n",
    "        except Exception as e:\n",
    "            print(e)\n",
    "        return invoke()"
   ]
  },
  {
   "cell_type": "code",
   "execution_count": 5,
   "metadata": {},
   "outputs": [],
   "source": [
    "class assistance:\n",
    "    def __init(self):\n",
    "        pass\n",
    "    \n",
    "    def wiki(self):\n",
    "        self.say(\"what do you need to know about ?\")\n",
    "        query = self.listen(5)\n",
    "        try:\n",
    "            result = wikipedia.summary(query, sentences=5)\n",
    "            self.say(\"According to wikipedia, \"+ result)\n",
    "        except:\n",
    "            self.say(\"Did not find anything about \" + query + \". Please try speaking again\")\n",
    "            self.wiki()\n",
    "        \n",
    "    def openSomething(self,query):\n",
    "        if \"youtube\" in query:\n",
    "            self.say(\"opening\" + youtube)\n",
    "            webbrowser.open(\"www.youtube.com\")\n",
    "        elif \"stack\" in query or \"overflow\" in query:\n",
    "            self.say(\"opening\" + stackoverflow)\n",
    "            webbrowser.open(\"www.stackoverflow.com\")\n",
    "    \n",
    "    def sendMail(self):\n",
    "        self.say(\"Speak your message\")\n",
    "        content = self.listen(10)\n",
    "        recipient = input()\n",
    "        try:    \n",
    "            server = smtplib.SMTP('smtp.gmail.com', 587) \n",
    "            server.ehlo()\n",
    "            server.starttls()\n",
    "            server.login(\"bhushan1234misal@gmail.com\", \"onetoughacttofollow\")\n",
    "            server.sendmail(\"bhushan1234misal@gmail.com\",recipient, content)\n",
    "            server.close()\n",
    "            self.say(\"Mail sent\")\n",
    "        except:\n",
    "            self.say(\"sorry, Problem sending a Mail!\")"
   ]
  },
  {
   "cell_type": "code",
   "execution_count": 10,
   "metadata": {},
   "outputs": [],
   "source": [
    "class assistant(assistance):\n",
    "    \n",
    "    def __init__(self):\n",
    "        self.engine = pyttsx3.init(\"sapi5\")\n",
    "        self.engine.setProperty(\"voice\", self.engine.getProperty('voices')[1].id)\n",
    "#         self.listen(3)\n",
    "    \n",
    "    def say(self,audio):\n",
    "        self.engine.say(audio)\n",
    "        self.engine.runAndWait()\n",
    "        \n",
    "    def listen(self, time_limit):\n",
    "        recognizer = sr.Recognizer()\n",
    "        with sr.Microphone() as mic:\n",
    "            audio = recognizer.listen(mic, phrase_time_limit=time_limit)\n",
    "            try:\n",
    "                query = recognizer.recognize_google(audio, language = \"en-in\").lower()\n",
    "                print(\"LISTENED \" + query)\n",
    "                self.say(query)\n",
    "                return query            \n",
    "            except:\n",
    "                return self.listen(time_limit)\n",
    "\n"
   ]
  },
  {
   "cell_type": "code",
   "execution_count": 12,
   "metadata": {},
   "outputs": [
    {
     "name": "stdout",
     "output_type": "stream",
     "text": [
      "LISTENED wikipedia\n",
      "LISTENED nothing\n"
     ]
    }
   ],
   "source": [
    "if __name__ == \"__main__\":\n",
    "    jarvis = assistant()\n",
    "    query = jarvis.listen(5)\n",
    "    if (\"wikipedia\" in query) or (\"wiki\" in query):\n",
    "        jarvis.wiki()\n",
    "    if \"open\" in query:\n",
    "        jarvis.openSomething(query)\n",
    "    if \"mail\" in query:\n",
    "        jarvis.sendMail()\n",
    "    if \"shutdown\" in query:\n",
    "        subprocess.call(\"shutdown /p /f\")\n",
    "    if \"lock\" in query and \"system\" in query:\n",
    "        ctypes.windll.user32.LockWorkStation() \n",
    "    if \"current time\" in query:\n",
    "        jarvis.say(\"current time is, \" + datetime.datetime.now().strftime(\"%X\"))"
   ]
  },
  {
   "cell_type": "code",
   "execution_count": null,
   "metadata": {},
   "outputs": [],
   "source": [
    "import pyjokes\n",
    "jarvis.say(pyjokes.get_joke())"
   ]
  },
  {
   "cell_type": "code",
   "execution_count": null,
   "metadata": {},
   "outputs": [],
   "source": []
  }
 ],
 "metadata": {
  "kernelspec": {
   "display_name": "Python 3",
   "language": "python",
   "name": "python3"
  },
  "language_info": {
   "codemirror_mode": {
    "name": "ipython",
    "version": 3
   },
   "file_extension": ".py",
   "mimetype": "text/x-python",
   "name": "python",
   "nbconvert_exporter": "python",
   "pygments_lexer": "ipython3",
   "version": "3.7.1"
  }
 },
 "nbformat": 4,
 "nbformat_minor": 4
}
