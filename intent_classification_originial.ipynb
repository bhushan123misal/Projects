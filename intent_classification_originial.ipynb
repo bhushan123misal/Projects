{
  "cells": [
    {
      "cell_type": "code",
      "execution_count": null,
      "metadata": {
        "application/vnd.databricks.v1+cell": {
          "inputWidgets": {},
          "nuid": "efdec2ce-2e48-4ce6-b44c-70ab9e883d3d",
          "showTitle": false,
          "title": ""
        },
        "id": "4kacpRlu7yb9"
      },
      "outputs": [],
      "source": [
        "import numpy as np\n",
        "import pandas as pd\n",
        "from sklearn.model_selection import train_test_split\n",
        "from sklearn.linear_model import LogisticRegression\n",
        "from sklearn.model_selection import GridSearchCV\n",
        "from sklearn.model_selection import cross_val_score\n",
        "import tensorflow as tf\n",
        "from transformers import DistilBertTokenizer, TFDistilBertModel\n",
        "distil_bert = 'distilbert-base-uncased'"
      ]
    },
    {
      "cell_type": "code",
      "execution_count": null,
      "metadata": {
        "application/vnd.databricks.v1+cell": {
          "inputWidgets": {},
          "nuid": "42166237-31c2-4909-b4c9-7bae16729c20",
          "showTitle": false,
          "title": ""
        },
        "id": "wjyXkRX67ycB"
      },
      "outputs": [],
      "source": [
        "df_original = pd.read_excel(\"primary_intent_up_english_after_Datathon2.xlsx\")"
      ]
    },
    {
      "cell_type": "code",
      "execution_count": null,
      "metadata": {
        "id": "bxQrk6HU7ycB"
      },
      "outputs": [],
      "source": [
        "df = df_original[:1000]"
      ]
    },
    {
      "cell_type": "code",
      "execution_count": null,
      "metadata": {
        "application/vnd.databricks.v1+cell": {
          "inputWidgets": {},
          "nuid": "966c6459-81f3-46e3-a7b1-04c267a87863",
          "showTitle": false,
          "title": ""
        },
        "id": "5ifTndfA7ycC",
        "outputId": "23f39e7b-63aa-4e19-d370-c829f3104cc4"
      },
      "outputs": [
        {
          "data": {
            "text/html": [
              "<div>\n",
              "<style scoped>\n",
              "    .dataframe tbody tr th:only-of-type {\n",
              "        vertical-align: middle;\n",
              "    }\n",
              "\n",
              "    .dataframe tbody tr th {\n",
              "        vertical-align: top;\n",
              "    }\n",
              "\n",
              "    .dataframe thead th {\n",
              "        text-align: right;\n",
              "    }\n",
              "</style>\n",
              "<table border=\"1\" class=\"dataframe\">\n",
              "  <thead>\n",
              "    <tr style=\"text-align: right;\">\n",
              "      <th></th>\n",
              "      <th>Text</th>\n",
              "      <th>Intent</th>\n",
              "    </tr>\n",
              "  </thead>\n",
              "  <tbody>\n",
              "    <tr>\n",
              "      <th>0</th>\n",
              "      <td>Sec 18</td>\n",
              "      <td>Store</td>\n",
              "    </tr>\n",
              "    <tr>\n",
              "      <th>1</th>\n",
              "      <td>Store</td>\n",
              "      <td>Store</td>\n",
              "    </tr>\n",
              "    <tr>\n",
              "      <th>2</th>\n",
              "      <td>Store Near Me</td>\n",
              "      <td>Store</td>\n",
              "    </tr>\n",
              "    <tr>\n",
              "      <th>3</th>\n",
              "      <td>Stores Near Me</td>\n",
              "      <td>Store</td>\n",
              "    </tr>\n",
              "    <tr>\n",
              "      <th>4</th>\n",
              "      <td>Nearest Store to me</td>\n",
              "      <td>Store</td>\n",
              "    </tr>\n",
              "  </tbody>\n",
              "</table>\n",
              "</div>"
            ],
            "text/plain": [
              "                  Text Intent\n",
              "0               Sec 18  Store\n",
              "1                Store  Store\n",
              "2        Store Near Me  Store\n",
              "3       Stores Near Me  Store\n",
              "4  Nearest Store to me  Store"
            ]
          },
          "execution_count": 10,
          "metadata": {},
          "output_type": "execute_result"
        }
      ],
      "source": [
        "df.head()"
      ]
    },
    {
      "cell_type": "code",
      "execution_count": null,
      "metadata": {
        "application/vnd.databricks.v1+cell": {
          "inputWidgets": {},
          "nuid": "eebecd27-ff40-4311-8e5e-9b1292e6ba36",
          "showTitle": false,
          "title": ""
        },
        "id": "F0CU6Ogd7ycD",
        "outputId": "828308b0-ec7d-4ff8-9cf2-7fa20b54dd56"
      },
      "outputs": [
        {
          "name": "stdout",
          "output_type": "stream",
          "text": [
            "Total number of text after removing duplicates: 841\n"
          ]
        },
        {
          "name": "stderr",
          "output_type": "stream",
          "text": [
            "/home/deepakchawala/PycharmProjects/HBChawlaProjects/geekeeprojectModules/texttocode/venv/lib/python3.6/site-packages/ipykernel_launcher.py:1: SettingWithCopyWarning: \n",
            "A value is trying to be set on a copy of a slice from a DataFrame\n",
            "\n",
            "See the caveats in the documentation: https://pandas.pydata.org/pandas-docs/stable/user_guide/indexing.html#returning-a-view-versus-a-copy\n",
            "  \"\"\"Entry point for launching an IPython kernel.\n"
          ]
        }
      ],
      "source": [
        "df.sort_values('Text',inplace=True, ascending=True)\n",
        "duplicated_text_series = df.duplicated('Text', keep = 'first')\n",
        "df = df[~duplicated_text_series]\n",
        "print(\"Total number of text after removing duplicates:\", df.shape[0])"
      ]
    },
    {
      "cell_type": "code",
      "execution_count": null,
      "metadata": {
        "application/vnd.databricks.v1+cell": {
          "inputWidgets": {},
          "nuid": "a505519f-5f6e-4685-b2d2-4d9ed0886311",
          "showTitle": false,
          "title": ""
        },
        "id": "F_W44LbU7ycE",
        "outputId": "22d1295c-b14f-42a2-fe62-c23592aed980"
      },
      "outputs": [
        {
          "data": {
            "text/html": [
              "<div>\n",
              "<style scoped>\n",
              "    .dataframe tbody tr th:only-of-type {\n",
              "        vertical-align: middle;\n",
              "    }\n",
              "\n",
              "    .dataframe tbody tr th {\n",
              "        vertical-align: top;\n",
              "    }\n",
              "\n",
              "    .dataframe thead th {\n",
              "        text-align: right;\n",
              "    }\n",
              "</style>\n",
              "<table border=\"1\" class=\"dataframe\">\n",
              "  <thead>\n",
              "    <tr style=\"text-align: right;\">\n",
              "      <th></th>\n",
              "      <th>Text</th>\n",
              "      <th>Intent</th>\n",
              "    </tr>\n",
              "  </thead>\n",
              "  <tbody>\n",
              "    <tr>\n",
              "      <th>442</th>\n",
              "      <td>Appointment</td>\n",
              "      <td>Store</td>\n",
              "    </tr>\n",
              "    <tr>\n",
              "      <th>29</th>\n",
              "      <td>Assisted shopping is there ?</td>\n",
              "      <td>Store</td>\n",
              "    </tr>\n",
              "    <tr>\n",
              "      <th>918</th>\n",
              "      <td>Band-collar shirt for women</td>\n",
              "      <td>Product</td>\n",
              "    </tr>\n",
              "    <tr>\n",
              "      <th>807</th>\n",
              "      <td>Band-collar tshirt for men</td>\n",
              "      <td>Product</td>\n",
              "    </tr>\n",
              "    <tr>\n",
              "      <th>134</th>\n",
              "      <td>Black</td>\n",
              "      <td>Product</td>\n",
              "    </tr>\n",
              "    <tr>\n",
              "      <th>132</th>\n",
              "      <td>Black Shoe</td>\n",
              "      <td>Product</td>\n",
              "    </tr>\n",
              "    <tr>\n",
              "      <th>193</th>\n",
              "      <td>Black loafers</td>\n",
              "      <td>Product</td>\n",
              "    </tr>\n",
              "    <tr>\n",
              "      <th>167</th>\n",
              "      <td>Black shoes</td>\n",
              "      <td>Product</td>\n",
              "    </tr>\n",
              "    <tr>\n",
              "      <th>219</th>\n",
              "      <td>Black slippers</td>\n",
              "      <td>Product</td>\n",
              "    </tr>\n",
              "    <tr>\n",
              "      <th>551</th>\n",
              "      <td>Blue color flat sandals</td>\n",
              "      <td>Product</td>\n",
              "    </tr>\n",
              "    <tr>\n",
              "      <th>133</th>\n",
              "      <td>Brown</td>\n",
              "      <td>Product</td>\n",
              "    </tr>\n",
              "    <tr>\n",
              "      <th>148</th>\n",
              "      <td>Brown Shoe</td>\n",
              "      <td>Product</td>\n",
              "    </tr>\n",
              "    <tr>\n",
              "      <th>206</th>\n",
              "      <td>Brown loafers</td>\n",
              "      <td>Product</td>\n",
              "    </tr>\n",
              "    <tr>\n",
              "      <th>180</th>\n",
              "      <td>Brown shoes</td>\n",
              "      <td>Product</td>\n",
              "    </tr>\n",
              "    <tr>\n",
              "      <th>232</th>\n",
              "      <td>Brown slippers</td>\n",
              "      <td>Product</td>\n",
              "    </tr>\n",
              "    <tr>\n",
              "      <th>786</th>\n",
              "      <td>Check Tshirts for men in black colour</td>\n",
              "      <td>Product</td>\n",
              "    </tr>\n",
              "    <tr>\n",
              "      <th>783</th>\n",
              "      <td>Check Tshirts for men in gray colour</td>\n",
              "      <td>Product</td>\n",
              "    </tr>\n",
              "    <tr>\n",
              "      <th>781</th>\n",
              "      <td>Check Tshirts for men in green colour</td>\n",
              "      <td>Product</td>\n",
              "    </tr>\n",
              "    <tr>\n",
              "      <th>782</th>\n",
              "      <td>Check Tshirts for men in marron colour</td>\n",
              "      <td>Product</td>\n",
              "    </tr>\n",
              "    <tr>\n",
              "      <th>785</th>\n",
              "      <td>Check Tshirts for men in mustard colour</td>\n",
              "      <td>Product</td>\n",
              "    </tr>\n",
              "  </tbody>\n",
              "</table>\n",
              "</div>"
            ],
            "text/plain": [
              "                                        Text   Intent\n",
              "442                              Appointment    Store\n",
              "29              Assisted shopping is there ?    Store\n",
              "918              Band-collar shirt for women  Product\n",
              "807               Band-collar tshirt for men  Product\n",
              "134                                    Black  Product\n",
              "132                               Black Shoe  Product\n",
              "193                            Black loafers  Product\n",
              "167                              Black shoes  Product\n",
              "219                           Black slippers  Product\n",
              "551                  Blue color flat sandals  Product\n",
              "133                                    Brown  Product\n",
              "148                               Brown Shoe  Product\n",
              "206                            Brown loafers  Product\n",
              "180                              Brown shoes  Product\n",
              "232                           Brown slippers  Product\n",
              "786    Check Tshirts for men in black colour  Product\n",
              "783     Check Tshirts for men in gray colour  Product\n",
              "781    Check Tshirts for men in green colour  Product\n",
              "782   Check Tshirts for men in marron colour  Product\n",
              "785  Check Tshirts for men in mustard colour  Product"
            ]
          },
          "execution_count": 12,
          "metadata": {},
          "output_type": "execute_result"
        }
      ],
      "source": [
        "df.head(20)"
      ]
    },
    {
      "cell_type": "code",
      "execution_count": null,
      "metadata": {
        "application/vnd.databricks.v1+cell": {
          "inputWidgets": {},
          "nuid": "dbe5558d-52ec-4617-953d-9c9d4212d0a4",
          "showTitle": false,
          "title": ""
        },
        "id": "7eCtGw-57ycE"
      },
      "outputs": [],
      "source": [
        "import string"
      ]
    },
    {
      "cell_type": "code",
      "execution_count": null,
      "metadata": {
        "application/vnd.databricks.v1+cell": {
          "inputWidgets": {},
          "nuid": "495d6fe2-472d-4990-9bfc-7114d0a69c59",
          "showTitle": false,
          "title": ""
        },
        "id": "t8KS2hiE7ycF"
      },
      "outputs": [],
      "source": [
        "text = \"stores near me?\""
      ]
    },
    {
      "cell_type": "code",
      "execution_count": null,
      "metadata": {
        "application/vnd.databricks.v1+cell": {
          "inputWidgets": {},
          "nuid": "c1ee7cf4-3f33-4b56-9ef3-70cd4d22094d",
          "showTitle": false,
          "title": ""
        },
        "id": "K0Y-ES9v7ycF"
      },
      "outputs": [],
      "source": [
        "def punctuation_removal(text):\n",
        "  text = [i for i in text if i not in string.punctuation]\n",
        "  text = \"\".join(text)\n",
        "  return text"
      ]
    },
    {
      "cell_type": "code",
      "execution_count": null,
      "metadata": {
        "application/vnd.databricks.v1+cell": {
          "inputWidgets": {},
          "nuid": "256a08a5-1d1d-4457-94f5-bfceea48ec02",
          "showTitle": false,
          "title": ""
        },
        "id": "FLaDmlNx7ycG"
      },
      "outputs": [],
      "source": [
        "df[\"Text\"] = df[\"Text\"].apply(punctuation_removal)"
      ]
    },
    {
      "cell_type": "code",
      "execution_count": null,
      "metadata": {
        "application/vnd.databricks.v1+cell": {
          "inputWidgets": {},
          "nuid": "36801cd6-3ca3-43d9-807d-811d3813abe0",
          "showTitle": false,
          "title": ""
        },
        "id": "9awK3Oi37ycG",
        "outputId": "fc04c4ba-c59d-4644-f966-2e4dee4f78fb"
      },
      "outputs": [
        {
          "data": {
            "text/plain": [
              "Product    667\n",
              "Store      106\n",
              "Loyalty     68\n",
              "Name: Intent, dtype: int64"
            ]
          },
          "execution_count": 17,
          "metadata": {},
          "output_type": "execute_result"
        }
      ],
      "source": [
        "df[\"Intent\"].value_counts()"
      ]
    },
    {
      "cell_type": "code",
      "execution_count": null,
      "metadata": {
        "application/vnd.databricks.v1+cell": {
          "inputWidgets": {},
          "nuid": "4f7b197b-987c-48d3-893c-b3df4803a8a6",
          "showTitle": false,
          "title": ""
        },
        "id": "NXWwmZkx7ycG",
        "outputId": "64593353-1387-49be-acb6-25e30e65da42"
      },
      "outputs": [
        {
          "name": "stderr",
          "output_type": "stream",
          "text": [
            "Some layers from the model checkpoint at distilbert-base-uncased were not used when initializing TFDistilBertModel: ['vocab_transform', 'activation_13', 'vocab_projector', 'vocab_layer_norm']\n",
            "- This IS expected if you are initializing TFDistilBertModel from the checkpoint of a model trained on another task or with another architecture (e.g. initializing a BertForSequenceClassification model from a BertForPreTraining model).\n",
            "- This IS NOT expected if you are initializing TFDistilBertModel from the checkpoint of a model that you expect to be exactly identical (initializing a BertForSequenceClassification model from a BertForSequenceClassification model).\n",
            "All the layers of TFDistilBertModel were initialized from the model checkpoint at distilbert-base-uncased.\n",
            "If your task is similar to the task the model of the checkpoint was trained on, you can already use TFDistilBertModel for predictions without further training.\n"
          ]
        }
      ],
      "source": [
        "tokenizer = DistilBertTokenizer.from_pretrained(distil_bert)\n",
        "model = TFDistilBertModel.from_pretrained(distil_bert)"
      ]
    },
    {
      "cell_type": "code",
      "execution_count": null,
      "metadata": {
        "application/vnd.databricks.v1+cell": {
          "inputWidgets": {},
          "nuid": "a60a7715-39bd-41a9-a494-6c3306c8e758",
          "showTitle": false,
          "title": ""
        },
        "id": "qfYz9QPQ7ycH"
      },
      "outputs": [],
      "source": [
        "tokenized = df[\"Text\"].apply((lambda x: tokenizer.encode(x, add_special_tokens=True)))"
      ]
    },
    {
      "cell_type": "code",
      "execution_count": null,
      "metadata": {
        "application/vnd.databricks.v1+cell": {
          "inputWidgets": {},
          "nuid": "26937af2-f7ca-4206-9f7c-983bbef5859a",
          "showTitle": false,
          "title": ""
        },
        "id": "frx72x8D7ycH"
      },
      "outputs": [],
      "source": [
        "max_len = 50\n",
        "padded = np.array([i + [0]*(max_len-len(i)) for i in tokenized.values])"
      ]
    },
    {
      "cell_type": "code",
      "execution_count": null,
      "metadata": {
        "application/vnd.databricks.v1+cell": {
          "inputWidgets": {},
          "nuid": "02636d42-3eff-4b3a-9fce-58c5f07aa1d9",
          "showTitle": false,
          "title": ""
        },
        "id": "x3YQBtR-7ycH",
        "outputId": "d987ba03-37a8-41ee-ef0d-70751544d8f6"
      },
      "outputs": [
        {
          "data": {
            "text/plain": [
              "(841, 50)"
            ]
          },
          "execution_count": 27,
          "metadata": {},
          "output_type": "execute_result"
        }
      ],
      "source": [
        "attention_mask = np.where(padded != 0, 1, 0)\n",
        "attention_mask.shape"
      ]
    },
    {
      "cell_type": "code",
      "execution_count": null,
      "metadata": {
        "application/vnd.databricks.v1+cell": {
          "inputWidgets": {},
          "nuid": "209921bc-23c3-4d51-a8de-b55e1439e383",
          "showTitle": false,
          "title": ""
        },
        "id": "WjEWDEXB7ycH"
      },
      "outputs": [],
      "source": [
        "input_ids =tf.convert_to_tensor(padded)\n",
        "attention_mask = tf.convert_to_tensor(attention_mask)"
      ]
    },
    {
      "cell_type": "code",
      "execution_count": null,
      "metadata": {
        "application/vnd.databricks.v1+cell": {
          "inputWidgets": {},
          "nuid": "b686e19b-f666-4676-9551-e58829c1162a",
          "showTitle": false,
          "title": ""
        },
        "id": "UvXr1Lh97ycH"
      },
      "outputs": [],
      "source": [
        "last_hidden_states = model(input_ids, attention_mask=attention_mask)"
      ]
    },
    {
      "cell_type": "code",
      "execution_count": null,
      "metadata": {
        "application/vnd.databricks.v1+cell": {
          "inputWidgets": {},
          "nuid": "e501dd89-18c2-455d-a99f-b001196894a7",
          "showTitle": false,
          "title": ""
        },
        "id": "tGPFxQsW7ycH"
      },
      "outputs": [],
      "source": [
        "features = last_hidden_states[0][:,0,:].numpy()"
      ]
    },
    {
      "cell_type": "code",
      "execution_count": null,
      "metadata": {
        "application/vnd.databricks.v1+cell": {
          "inputWidgets": {},
          "nuid": "df04da3d-2875-43cd-90a0-b879f0029fd0",
          "showTitle": false,
          "title": ""
        },
        "id": "73Qjun487ycH"
      },
      "outputs": [],
      "source": [
        "labels = df[\"Intent\"]"
      ]
    },
    {
      "cell_type": "code",
      "execution_count": null,
      "metadata": {
        "application/vnd.databricks.v1+cell": {
          "inputWidgets": {},
          "nuid": "6594cf82-4957-4564-8a8a-c7b2cc8cd2e5",
          "showTitle": false,
          "title": ""
        },
        "id": "5naoOnwt7ycI"
      },
      "outputs": [],
      "source": [
        "train_features, test_features, train_labels, test_labels = train_test_split(features, labels, random_state=42)"
      ]
    },
    {
      "cell_type": "code",
      "execution_count": null,
      "metadata": {
        "application/vnd.databricks.v1+cell": {
          "inputWidgets": {},
          "nuid": "71448cac-251d-49cf-80d5-51b1a2839adf",
          "showTitle": false,
          "title": ""
        },
        "id": "Vv2XJIM87ycI",
        "outputId": "c80f5274-ecbe-46f9-bcc5-e885c8111b9c"
      },
      "outputs": [
        {
          "name": "stderr",
          "output_type": "stream",
          "text": [
            "/home/deepakchawala/PycharmProjects/HBChawlaProjects/geekeeprojectModules/texttocode/venv/lib/python3.6/site-packages/sklearn/svm/_base.py:986: ConvergenceWarning: Liblinear failed to converge, increase the number of iterations.\n",
            "  \"the number of iterations.\", ConvergenceWarning)\n"
          ]
        },
        {
          "data": {
            "text/plain": [
              "LinearSVC(class_weight='balanced', random_state=42)"
            ]
          },
          "execution_count": 33,
          "metadata": {},
          "output_type": "execute_result"
        }
      ],
      "source": [
        "#from sklearn.naive_bayes import MultinomialNB\n",
        "#clf = MultinomialNB()\n",
        "from sklearn.naive_bayes import GaussianNB\n",
        "from sklearn.naive_bayes import MultinomialNB\n",
        "from sklearn.svm import LinearSVC\n",
        "from sklearn import svm\n",
        "# lr_clf = GaussianNB()\n",
        "# lr_clf.fit(train_features, train_labels)\n",
        "# lr_clf = MultinomialNB().fit(train_features,train_labels)\n",
        "lr_clf=LinearSVC(class_weight='balanced',random_state=42)\n",
        "#lr_clf=svm.SVC(kernel = 'poly', C = 10, probability=True,class_weight='balanced')\n",
        "lr_clf.fit(train_features, train_labels)"
      ]
    },
    {
      "cell_type": "code",
      "execution_count": null,
      "metadata": {
        "application/vnd.databricks.v1+cell": {
          "inputWidgets": {},
          "nuid": "1cd80693-5442-407b-8c30-f2e709434082",
          "showTitle": false,
          "title": ""
        },
        "id": "-ZLwl0aZ7ycI"
      },
      "outputs": [],
      "source": [
        "#lr_clf2=LinearSVC(class_weight='balanced')\n",
        "#lr_clf2.fit(train_features, train_labels)"
      ]
    },
    {
      "cell_type": "code",
      "execution_count": null,
      "metadata": {
        "application/vnd.databricks.v1+cell": {
          "inputWidgets": {},
          "nuid": "5e81d6bd-efa5-4600-b10c-461e34c9c628",
          "showTitle": false,
          "title": ""
        },
        "id": "kWsQ1vdy7ycI"
      },
      "outputs": [],
      "source": [
        "#lr_clf = LogisticRegression(multi_class = \"multinomial\", random_state=42)\n",
        "#lr_clf.fit(train_features, train_labels)"
      ]
    },
    {
      "cell_type": "code",
      "execution_count": null,
      "metadata": {
        "application/vnd.databricks.v1+cell": {
          "inputWidgets": {},
          "nuid": "510efba7-2c73-4420-b37f-8818a64eadf4",
          "showTitle": false,
          "title": ""
        },
        "id": "BZHxR5MX7ycI",
        "outputId": "f8678600-4d32-4a63-bc0e-7719858a4874"
      },
      "outputs": [
        {
          "data": {
            "text/plain": [
              "1.0"
            ]
          },
          "execution_count": 48,
          "metadata": {},
          "output_type": "execute_result"
        }
      ],
      "source": [
        "lr_clf.score(test_features, test_labels)"
      ]
    },
    {
      "cell_type": "code",
      "execution_count": null,
      "metadata": {
        "application/vnd.databricks.v1+cell": {
          "inputWidgets": {},
          "nuid": "1950353d-757d-4a42-b7ce-d84704f64904",
          "showTitle": false,
          "title": ""
        },
        "id": "eNZpFjgf7ycI"
      },
      "outputs": [],
      "source": [
        "y_pred=lr_clf.predict(test_features)"
      ]
    },
    {
      "cell_type": "code",
      "execution_count": null,
      "metadata": {
        "application/vnd.databricks.v1+cell": {
          "inputWidgets": {},
          "nuid": "fe6e59a1-5b33-47ab-a0ba-d4ccfdd3a725",
          "showTitle": false,
          "title": ""
        },
        "id": "bJ22xpsa7ycJ"
      },
      "outputs": [],
      "source": [
        "#y_pred=lr_clf2.predict(test_features)"
      ]
    },
    {
      "cell_type": "code",
      "execution_count": null,
      "metadata": {
        "application/vnd.databricks.v1+cell": {
          "inputWidgets": {},
          "nuid": "d84e3345-66ad-4aba-bff6-258990bd11b8",
          "showTitle": false,
          "title": ""
        },
        "id": "2YpJQH3p7ycJ",
        "outputId": "f8cfe8e3-857f-4609-c429-ea14db5b53ff"
      },
      "outputs": [
        {
          "name": "stdout",
          "output_type": "stream",
          "text": [
            "[[ 14   0   0]\n",
            " [  0 174   0]\n",
            " [  0   0  23]]\n",
            "              precision    recall  f1-score   support\n",
            "\n",
            "     Loyalty       1.00      1.00      1.00        14\n",
            "     Product       1.00      1.00      1.00       174\n",
            "       Store       1.00      1.00      1.00        23\n",
            "\n",
            "    accuracy                           1.00       211\n",
            "   macro avg       1.00      1.00      1.00       211\n",
            "weighted avg       1.00      1.00      1.00       211\n",
            "\n",
            "Accuracy: 1.0\n"
          ]
        }
      ],
      "source": [
        "from sklearn import metrics\n",
        "from sklearn.metrics import confusion_matrix\n",
        "confusion_matrix = confusion_matrix(test_labels, y_pred)\n",
        "print(confusion_matrix)\n",
        "from sklearn.metrics import classification_report\n",
        "print(classification_report(test_labels, y_pred))\n",
        "\n",
        "print(\"Accuracy:\",metrics.accuracy_score(test_labels, y_pred))"
      ]
    },
    {
      "cell_type": "code",
      "execution_count": null,
      "metadata": {
        "application/vnd.databricks.v1+cell": {
          "inputWidgets": {},
          "nuid": "6abdeb26-19d7-42a4-9c85-fb156443d9be",
          "showTitle": false,
          "title": ""
        },
        "id": "-V1iaBZV7ycJ"
      },
      "outputs": [],
      "source": [
        "#confusion_matrix = confusion_matrix(test_labels, y_pred)\n",
        "#print(confusion_matrix)\n",
        "#print(classification_report(test_labels, y_pred))\n",
        "#print(\"Accuracy:\",metrics.accuracy_score(test_labels, y_pred))"
      ]
    },
    {
      "cell_type": "code",
      "execution_count": null,
      "metadata": {
        "application/vnd.databricks.v1+cell": {
          "inputWidgets": {},
          "nuid": "2e7964c4-16c4-4df1-8596-23d8e22a22a4",
          "showTitle": false,
          "title": ""
        },
        "id": "WaeLRXWj7ycJ"
      },
      "outputs": [],
      "source": [
        "def feature_gen(text):\n",
        "    text = [i for i in text if i not in string.punctuation]\n",
        "    text = \"\".join(text)\n",
        "    dummy = tokenizer.encode(text,add_special_tokens=True)\n",
        "    dummy_padded = np.array([dummy + [0]*(max_len-len(dummy))])\n",
        "    dummy_attention_mask = np.where(dummy_padded != 0, 1, 0)\n",
        "    dummy_input_ids =tf.convert_to_tensor(dummy_padded)\n",
        "    dummy_attention_mask = tf.convert_to_tensor(dummy_attention_mask)\n",
        "    dummy_last_hidden_states = model(dummy_input_ids, attention_mask=dummy_attention_mask)\n",
        "    dummy_features = dummy_last_hidden_states[0][:,0,:].numpy()\n",
        "    return dummy_features"
      ]
    },
    {
      "cell_type": "code",
      "execution_count": null,
      "metadata": {
        "application/vnd.databricks.v1+cell": {
          "inputWidgets": {},
          "nuid": "aeaddf5b-839b-42f2-a7bc-e713aaf5b804",
          "showTitle": false,
          "title": ""
        },
        "id": "--ZowCtx7ycJ"
      },
      "outputs": [],
      "source": [
        "#from sklearn.linear_model import SGDClassifier\n",
        "#from sklearn.calibration import CalibratedClassifierCV"
      ]
    },
    {
      "cell_type": "code",
      "execution_count": null,
      "metadata": {
        "application/vnd.databricks.v1+cell": {
          "inputWidgets": {},
          "nuid": "10719579-80d8-41ea-b6c9-77f3b04fd676",
          "showTitle": false,
          "title": ""
        },
        "id": "omHvFOgz7ycJ"
      },
      "outputs": [],
      "source": [
        "#clf = SGDClassifier(class_weight='balanced', penalty='l2', loss='hinge', random_state=42)\n",
        "#clf.fit(train_features, train_labels)\n",
        "#calib_clf = CalibratedClassifierCV(clf, method=\"sigmoid\")\n",
        "#calib_clf.fit(train_features, train_labels)"
      ]
    },
    {
      "cell_type": "code",
      "execution_count": null,
      "metadata": {
        "application/vnd.databricks.v1+cell": {
          "inputWidgets": {},
          "nuid": "31692dea-e443-4022-a7c0-01a7259607d9",
          "showTitle": false,
          "title": ""
        },
        "id": "LHyrbM0u7ycJ"
      },
      "outputs": [],
      "source": [
        "#calib_clf.score(test_features, test_labels)"
      ]
    },
    {
      "cell_type": "code",
      "execution_count": null,
      "metadata": {
        "application/vnd.databricks.v1+cell": {
          "inputWidgets": {},
          "nuid": "79de78fd-b43e-44ef-9d14-413608b9f023",
          "showTitle": false,
          "title": ""
        },
        "id": "iKJtSe0R7ycK",
        "outputId": "276981b4-9729-49ee-d6b3-c020f411d137"
      },
      "outputs": [
        {
          "data": {
            "text/plain": [
              "Product    493\n",
              "Store       83\n",
              "Loyalty     54\n",
              "Name: Intent, dtype: int64"
            ]
          },
          "execution_count": 42,
          "metadata": {},
          "output_type": "execute_result"
        }
      ],
      "source": [
        "train_labels.value_counts()"
      ]
    },
    {
      "cell_type": "code",
      "execution_count": null,
      "metadata": {
        "application/vnd.databricks.v1+cell": {
          "inputWidgets": {},
          "nuid": "2ec832f4-2273-473a-bd7b-189dd1aa94c3",
          "showTitle": false,
          "title": ""
        },
        "id": "CAMDfzM-7ycK",
        "outputId": "694b55e2-696f-4b5f-861c-c032a38b46e3"
      },
      "outputs": [
        {
          "data": {
            "text/html": [
              "<style scoped>\n",
              "  .ansiout {\n",
              "    display: block;\n",
              "    unicode-bidi: embed;\n",
              "    white-space: pre-wrap;\n",
              "    word-wrap: break-word;\n",
              "    word-break: break-all;\n",
              "    font-family: \"Source Code Pro\", \"Menlo\", monospace;;\n",
              "    font-size: 13px;\n",
              "    color: #555;\n",
              "    margin-left: 4px;\n",
              "    line-height: 19px;\n",
              "  }\n",
              "</style>\n",
              "<div class=\"ansiout\">Out[80]: array([&#39;Confused&#39;, &#39;FAQs&#39;, &#39;Greetings&#39;, &#39;Invoice&#39;, &#39;Loyalty&#39;, &#39;Product&#39;,\n",
              "       &#39;Shoe Size&#39;, &#39;Store&#39;], dtype=&#39;&lt;U9&#39;)</div>"
            ]
          },
          "metadata": {
            "application/vnd.databricks.v1+output": {
              "addedWidgets": {},
              "arguments": {},
              "data": "<div class=\"ansiout\">Out[80]: array([&#39;Confused&#39;, &#39;FAQs&#39;, &#39;Greetings&#39;, &#39;Invoice&#39;, &#39;Loyalty&#39;, &#39;Product&#39;,\n       &#39;Shoe Size&#39;, &#39;Store&#39;], dtype=&#39;&lt;U9&#39;)</div>",
              "datasetInfos": [],
              "metadata": {},
              "removedWidgets": [],
              "type": "html"
            }
          },
          "output_type": "display_data"
        }
      ],
      "source": [
        "#calib_clf.classes_"
      ]
    },
    {
      "cell_type": "code",
      "execution_count": null,
      "metadata": {
        "application/vnd.databricks.v1+cell": {
          "inputWidgets": {},
          "nuid": "ff13d72f-fcdf-4faf-8c1c-5b55262b5c09",
          "showTitle": false,
          "title": ""
        },
        "id": "Nqs66ML97ycK"
      },
      "outputs": [],
      "source": [
        "#calib_clf.predict_proba(feature_gen(\"bataclub\")).argmax()"
      ]
    },
    {
      "cell_type": "code",
      "execution_count": null,
      "metadata": {
        "application/vnd.databricks.v1+cell": {
          "inputWidgets": {},
          "nuid": "b71dfeb4-ce81-4b7d-966c-8c1babf3c516",
          "showTitle": false,
          "title": ""
        },
        "id": "kAKiCTAK7ycK"
      },
      "outputs": [],
      "source": [
        "#calib_clf.predict(feature_gen(\"bataclub\"))"
      ]
    },
    {
      "cell_type": "code",
      "execution_count": null,
      "metadata": {
        "application/vnd.databricks.v1+cell": {
          "inputWidgets": {},
          "nuid": "32ddcb05-3494-4579-8561-e6ccb67f5980",
          "showTitle": false,
          "title": ""
        },
        "id": "NpneuqpX7ycK"
      },
      "outputs": [],
      "source": [
        "# import pickle\n",
        "# filename = 'finalized_model_english_after_Datathon.sav'\n",
        "# lr_clf = pickle.load(open(filename, 'rb'))"
      ]
    },
    {
      "cell_type": "code",
      "execution_count": null,
      "metadata": {
        "application/vnd.databricks.v1+cell": {
          "inputWidgets": {},
          "nuid": "a591c03c-74fc-4b4a-bb5d-684b8ceda2f3",
          "showTitle": false,
          "title": ""
        },
        "id": "1ztwJW117ycK",
        "outputId": "b9e4575a-9715-45cb-c301-349b3cdaedb1"
      },
      "outputs": [
        {
          "data": {
            "text/plain": [
              "array(['Loyalty', 'Product', 'Store'], dtype=object)"
            ]
          },
          "execution_count": 52,
          "metadata": {},
          "output_type": "execute_result"
        }
      ],
      "source": [
        "lr_clf.classes_"
      ]
    },
    {
      "cell_type": "code",
      "execution_count": null,
      "metadata": {
        "application/vnd.databricks.v1+cell": {
          "inputWidgets": {},
          "nuid": "a7f2895f-96b7-47e9-b969-a4d13676c28c",
          "showTitle": false,
          "title": ""
        },
        "id": "sIw1XamB7ycL",
        "outputId": "2b1a1a91-a7b9-4c51-aa28-e2ec63ec6f22"
      },
      "outputs": [
        {
          "data": {
            "text/plain": [
              "array(['Product'], dtype=object)"
            ]
          },
          "execution_count": 53,
          "metadata": {},
          "output_type": "execute_result"
        }
      ],
      "source": [
        "lr_clf.predict(feature_gen(\"bata shoe size\"))"
      ]
    },
    {
      "cell_type": "code",
      "execution_count": null,
      "metadata": {
        "application/vnd.databricks.v1+cell": {
          "inputWidgets": {},
          "nuid": "9a085df1-8509-46d5-82bc-188dce8317d1",
          "showTitle": false,
          "title": ""
        },
        "id": "lezzpKG67ycM",
        "outputId": "73839aac-f717-4592-c655-884a77dc7502"
      },
      "outputs": [
        {
          "data": {
            "text/html": [
              "<style scoped>\n",
              "  .ansiout {\n",
              "    display: block;\n",
              "    unicode-bidi: embed;\n",
              "    white-space: pre-wrap;\n",
              "    word-wrap: break-word;\n",
              "    word-break: break-all;\n",
              "    font-family: \"Source Code Pro\", \"Menlo\", monospace;;\n",
              "    font-size: 13px;\n",
              "    color: #555;\n",
              "    margin-left: 4px;\n",
              "    line-height: 19px;\n",
              "  }\n",
              "</style>\n",
              "<div class=\"ansiout\"></div>"
            ]
          },
          "metadata": {
            "application/vnd.databricks.v1+output": {
              "addedWidgets": {},
              "arguments": {},
              "data": "<div class=\"ansiout\"></div>",
              "datasetInfos": [],
              "metadata": {},
              "removedWidgets": [],
              "type": "html"
            }
          },
          "output_type": "display_data"
        },
        {
          "data": {
            "text/html": [
              "<style scoped>\n",
              "  .ansiout {\n",
              "    display: block;\n",
              "    unicode-bidi: embed;\n",
              "    white-space: pre-wrap;\n",
              "    word-wrap: break-word;\n",
              "    word-break: break-all;\n",
              "    font-family: \"Source Code Pro\", \"Menlo\", monospace;;\n",
              "    font-size: 13px;\n",
              "    color: #555;\n",
              "    margin-left: 4px;\n",
              "    line-height: 19px;\n",
              "  }\n",
              "</style>\n",
              "<div class=\"ansiout\"><span class=\"ansi-red-fg\">---------------------------------------------------------------------------</span>\n",
              "<span class=\"ansi-red-fg\">AttributeError</span>                            Traceback (most recent call last)\n",
              "<span class=\"ansi-green-fg\">&lt;command-3952795988958848&gt;</span> in <span class=\"ansi-cyan-fg\">&lt;module&gt;</span>\n",
              "<span class=\"ansi-green-fg\">----&gt; 1</span><span class=\"ansi-red-fg\"> </span>lr_clf<span class=\"ansi-blue-fg\">.</span>predict_proba<span class=\"ansi-blue-fg\">(</span>feature_gen<span class=\"ansi-blue-fg\">(</span><span class=\"ansi-blue-fg\">&#34;namas&#34;</span><span class=\"ansi-blue-fg\">)</span><span class=\"ansi-blue-fg\">)</span><span class=\"ansi-blue-fg\">.</span>max<span class=\"ansi-blue-fg\">(</span><span class=\"ansi-blue-fg\">)</span>\n",
              "\n",
              "<span class=\"ansi-red-fg\">AttributeError</span>: &#39;LinearSVC&#39; object has no attribute &#39;predict_proba&#39;</div>"
            ]
          },
          "metadata": {
            "application/vnd.databricks.v1+output": {
              "arguments": {},
              "data": "<div class=\"ansiout\"><span class=\"ansi-red-fg\">---------------------------------------------------------------------------</span>\n<span class=\"ansi-red-fg\">AttributeError</span>                            Traceback (most recent call last)\n<span class=\"ansi-green-fg\">&lt;command-3952795988958848&gt;</span> in <span class=\"ansi-cyan-fg\">&lt;module&gt;</span>\n<span class=\"ansi-green-fg\">----&gt; 1</span><span class=\"ansi-red-fg\"> </span>lr_clf<span class=\"ansi-blue-fg\">.</span>predict_proba<span class=\"ansi-blue-fg\">(</span>feature_gen<span class=\"ansi-blue-fg\">(</span><span class=\"ansi-blue-fg\">&#34;namas&#34;</span><span class=\"ansi-blue-fg\">)</span><span class=\"ansi-blue-fg\">)</span><span class=\"ansi-blue-fg\">.</span>max<span class=\"ansi-blue-fg\">(</span><span class=\"ansi-blue-fg\">)</span>\n\n<span class=\"ansi-red-fg\">AttributeError</span>: &#39;LinearSVC&#39; object has no attribute &#39;predict_proba&#39;</div>",
              "errorSummary": "<span class=\"ansi-red-fg\">AttributeError</span>: &#39;LinearSVC&#39; object has no attribute &#39;predict_proba&#39;",
              "metadata": {},
              "type": "ipynbError"
            }
          },
          "output_type": "display_data"
        }
      ],
      "source": [
        "#lr_clf.predict_proba(feature_gen(\"namas\")).max()"
      ]
    },
    {
      "cell_type": "code",
      "execution_count": null,
      "metadata": {
        "application/vnd.databricks.v1+cell": {
          "inputWidgets": {},
          "nuid": "7e33ea05-bfe4-4ddc-a7db-15287a12aa23",
          "showTitle": false,
          "title": ""
        },
        "id": "iPJF_n8x7ycM",
        "outputId": "5262a246-588b-40f1-fca6-e8fd4d598be7"
      },
      "outputs": [
        {
          "data": {
            "text/plain": [
              "'Store'"
            ]
          },
          "execution_count": 54,
          "metadata": {},
          "output_type": "execute_result"
        }
      ],
      "source": [
        "lr_clf.predict(feature_gen(\"nadia\"))[0]"
      ]
    },
    {
      "cell_type": "code",
      "execution_count": null,
      "metadata": {
        "application/vnd.databricks.v1+cell": {
          "inputWidgets": {},
          "nuid": "a206ba9b-3801-48f3-ae8f-1d35797fb28a",
          "showTitle": false,
          "title": ""
        },
        "id": "ZSa1dxBR7ycM",
        "outputId": "cad89984-354d-47dc-8576-b061df1d1368"
      },
      "outputs": [
        {
          "data": {
            "text/plain": [
              "'Store'"
            ]
          },
          "execution_count": 55,
          "metadata": {},
          "output_type": "execute_result"
        }
      ],
      "source": [
        "lr_clf.predict(feature_gen(\"store near me\"))[0]"
      ]
    },
    {
      "cell_type": "code",
      "execution_count": null,
      "metadata": {
        "application/vnd.databricks.v1+cell": {
          "inputWidgets": {},
          "nuid": "2aa57a9d-7576-4717-90a6-0dc641db19c6",
          "showTitle": false,
          "title": ""
        },
        "id": "kdLUR1my7ycM",
        "outputId": "0d69f3cc-ce4f-49b7-83ad-1fc7c0b7574f"
      },
      "outputs": [
        {
          "data": {
            "text/html": [
              "<div>\n",
              "<style scoped>\n",
              "    .dataframe tbody tr th:only-of-type {\n",
              "        vertical-align: middle;\n",
              "    }\n",
              "\n",
              "    .dataframe tbody tr th {\n",
              "        vertical-align: top;\n",
              "    }\n",
              "\n",
              "    .dataframe thead th {\n",
              "        text-align: right;\n",
              "    }\n",
              "</style>\n",
              "<table border=\"1\" class=\"dataframe\">\n",
              "  <thead>\n",
              "    <tr style=\"text-align: right;\">\n",
              "      <th></th>\n",
              "      <th>Text</th>\n",
              "      <th>Intent</th>\n",
              "    </tr>\n",
              "  </thead>\n",
              "  <tbody>\n",
              "    <tr>\n",
              "      <th>442</th>\n",
              "      <td>Appointment</td>\n",
              "      <td>Store</td>\n",
              "    </tr>\n",
              "    <tr>\n",
              "      <th>29</th>\n",
              "      <td>Assisted shopping is there</td>\n",
              "      <td>Store</td>\n",
              "    </tr>\n",
              "    <tr>\n",
              "      <th>34</th>\n",
              "      <td>Distance of Outlet</td>\n",
              "      <td>Store</td>\n",
              "    </tr>\n",
              "    <tr>\n",
              "      <th>408</th>\n",
              "      <td>Distance of Shop</td>\n",
              "      <td>Store</td>\n",
              "    </tr>\n",
              "    <tr>\n",
              "      <th>352</th>\n",
              "      <td>Distance of store</td>\n",
              "      <td>Store</td>\n",
              "    </tr>\n",
              "    <tr>\n",
              "      <th>...</th>\n",
              "      <td>...</td>\n",
              "      <td>...</td>\n",
              "    </tr>\n",
              "    <tr>\n",
              "      <th>422</th>\n",
              "      <td>what are the Shop timings</td>\n",
              "      <td>Store</td>\n",
              "    </tr>\n",
              "    <tr>\n",
              "      <th>20</th>\n",
              "      <td>what are the store timings</td>\n",
              "      <td>Store</td>\n",
              "    </tr>\n",
              "    <tr>\n",
              "      <th>49</th>\n",
              "      <td>when to visit Outlet</td>\n",
              "      <td>Store</td>\n",
              "    </tr>\n",
              "    <tr>\n",
              "      <th>76</th>\n",
              "      <td>when to visit Shop</td>\n",
              "      <td>Store</td>\n",
              "    </tr>\n",
              "    <tr>\n",
              "      <th>21</th>\n",
              "      <td>when to visit store</td>\n",
              "      <td>Store</td>\n",
              "    </tr>\n",
              "  </tbody>\n",
              "</table>\n",
              "<p>106 rows × 2 columns</p>\n",
              "</div>"
            ],
            "text/plain": [
              "                            Text Intent\n",
              "442                  Appointment  Store\n",
              "29   Assisted shopping is there   Store\n",
              "34           Distance of Outlet   Store\n",
              "408            Distance of Shop   Store\n",
              "352           Distance of store   Store\n",
              "..                           ...    ...\n",
              "422    what are the Shop timings  Store\n",
              "20    what are the store timings  Store\n",
              "49          when to visit Outlet  Store\n",
              "76            when to visit Shop  Store\n",
              "21           when to visit store  Store\n",
              "\n",
              "[106 rows x 2 columns]"
            ]
          },
          "execution_count": 56,
          "metadata": {},
          "output_type": "execute_result"
        }
      ],
      "source": [
        "df[df['Intent']=='Store']"
      ]
    },
    {
      "cell_type": "code",
      "execution_count": null,
      "metadata": {
        "application/vnd.databricks.v1+cell": {
          "inputWidgets": {},
          "nuid": "72e11322-c6d1-493e-afcc-96af2e8ea60c",
          "showTitle": false,
          "title": ""
        },
        "id": "GjL5EfD07ycM",
        "outputId": "76a407b3-9f5a-4e3a-ceb8-83d302c5d935"
      },
      "outputs": [
        {
          "data": {
            "text/html": [
              "<style scoped>\n",
              "  .ansiout {\n",
              "    display: block;\n",
              "    unicode-bidi: embed;\n",
              "    white-space: pre-wrap;\n",
              "    word-wrap: break-word;\n",
              "    word-break: break-all;\n",
              "    font-family: \"Source Code Pro\", \"Menlo\", monospace;;\n",
              "    font-size: 13px;\n",
              "    color: #555;\n",
              "    margin-left: 4px;\n",
              "    line-height: 19px;\n",
              "  }\n",
              "</style>\n",
              "<div class=\"ansiout\"></div>"
            ]
          },
          "metadata": {
            "application/vnd.databricks.v1+output": {
              "addedWidgets": {},
              "arguments": {},
              "data": "<div class=\"ansiout\"></div>",
              "datasetInfos": [],
              "metadata": {},
              "removedWidgets": [],
              "type": "html"
            }
          },
          "output_type": "display_data"
        }
      ],
      "source": [
        "#lr_clf.predict(feature_gen(\"I want to Shopping\"))[0]"
      ]
    },
    {
      "cell_type": "code",
      "execution_count": null,
      "metadata": {
        "application/vnd.databricks.v1+cell": {
          "inputWidgets": {},
          "nuid": "e09e553b-217d-4baf-af78-d4767ccd60e3",
          "showTitle": false,
          "title": ""
        },
        "id": "GcIies2Z7ycN",
        "outputId": "5d9f1110-f7ae-4eef-cacd-6040ae29d95a"
      },
      "outputs": [
        {
          "data": {
            "text/plain": [
              "'Loyalty'"
            ]
          },
          "execution_count": 57,
          "metadata": {},
          "output_type": "execute_result"
        }
      ],
      "source": [
        "lr_clf.predict(feature_gen(\"how to enroll for membership\"))[0]"
      ]
    },
    {
      "cell_type": "code",
      "execution_count": null,
      "metadata": {
        "application/vnd.databricks.v1+cell": {
          "inputWidgets": {},
          "nuid": "374d172b-1691-4136-aa06-81f495d30ff8",
          "showTitle": false,
          "title": ""
        },
        "id": "91C8tTSR7ycN",
        "outputId": "ee126979-beb8-4570-ead1-9732d626a842"
      },
      "outputs": [
        {
          "data": {
            "text/plain": [
              "'Store'"
            ]
          },
          "execution_count": 58,
          "metadata": {},
          "output_type": "execute_result"
        }
      ],
      "source": [
        "lr_clf.predict(feature_gen(\"navigate me to near by store\"))[0]"
      ]
    },
    {
      "cell_type": "code",
      "execution_count": null,
      "metadata": {
        "application/vnd.databricks.v1+cell": {
          "inputWidgets": {},
          "nuid": "16a876cc-0d51-43c8-8691-aac07c08912e",
          "showTitle": false,
          "title": ""
        },
        "id": "vQHzw98K7ycN",
        "outputId": "1e3f0bb1-e058-495c-ad7b-a48f84d9ae2c"
      },
      "outputs": [
        {
          "data": {
            "text/plain": [
              "'Product'"
            ]
          },
          "execution_count": 59,
          "metadata": {},
          "output_type": "execute_result"
        }
      ],
      "source": [
        "lr_clf.predict(feature_gen(\"peter england red t-shirt\"))[0]"
      ]
    },
    {
      "cell_type": "code",
      "execution_count": null,
      "metadata": {
        "application/vnd.databricks.v1+cell": {
          "inputWidgets": {},
          "nuid": "3b35c9e2-275c-49d2-a69f-6f52569d0fe8",
          "showTitle": false,
          "title": ""
        },
        "id": "71ROgK5D7ycN",
        "outputId": "63639970-ec8d-4278-aeae-762288609c3d"
      },
      "outputs": [
        {
          "data": {
            "text/plain": [
              "'Store'"
            ]
          },
          "execution_count": 60,
          "metadata": {},
          "output_type": "execute_result"
        }
      ],
      "source": [
        "lr_clf.predict(feature_gen(\"store with parking facility\"))[0]"
      ]
    },
    {
      "cell_type": "markdown",
      "metadata": {
        "application/vnd.databricks.v1+cell": {
          "inputWidgets": {},
          "nuid": "59f05b1c-e36a-4235-aec0-4e2e48964702",
          "showTitle": false,
          "title": ""
        },
        "id": "yvSy2d2w7ycN"
      },
      "source": [
        "### Persisting"
      ]
    },
    {
      "cell_type": "code",
      "execution_count": null,
      "metadata": {
        "application/vnd.databricks.v1+cell": {
          "inputWidgets": {},
          "nuid": "e0fc7fb8-52af-4827-9600-1c7f6bc98d6b",
          "showTitle": false,
          "title": ""
        },
        "id": "w59eqPlP7ycO",
        "outputId": "643dd3da-27da-4708-a9ef-a8b9e500af27"
      },
      "outputs": [
        {
          "name": "stderr",
          "output_type": "stream",
          "text": [
            "Some layers from the model checkpoint at distilbert-base-uncased were not used when initializing TFDistilBertModel: ['vocab_transform', 'activation_13', 'vocab_projector', 'vocab_layer_norm']\n",
            "- This IS expected if you are initializing TFDistilBertModel from the checkpoint of a model trained on another task or with another architecture (e.g. initializing a BertForSequenceClassification model from a BertForPreTraining model).\n",
            "- This IS NOT expected if you are initializing TFDistilBertModel from the checkpoint of a model that you expect to be exactly identical (initializing a BertForSequenceClassification model from a BertForSequenceClassification model).\n",
            "All the layers of TFDistilBertModel were initialized from the model checkpoint at distilbert-base-uncased.\n",
            "If your task is similar to the task the model of the checkpoint was trained on, you can already use TFDistilBertModel for predictions without further training.\n"
          ]
        },
        {
          "data": {
            "text/plain": [
              "('distilbert-base-uncased/tokenizer_config.json',\n",
              " 'distilbert-base-uncased/special_tokens_map.json',\n",
              " 'distilbert-base-uncased/vocab.txt',\n",
              " 'distilbert-base-uncased/added_tokens.json')"
            ]
          },
          "execution_count": 61,
          "metadata": {},
          "output_type": "execute_result"
        }
      ],
      "source": [
        "import pickle\n",
        "#import numpy\n",
        "import tensorflow as tf\n",
        "from transformers import DistilBertTokenizer, TFDistilBertModel\n",
        "distil_bert = 'distilbert-base-uncased'\n",
        "tokenizer = DistilBertTokenizer.from_pretrained(distil_bert)\n",
        "model = TFDistilBertModel.from_pretrained(distil_bert)\n",
        "model.save_pretrained('distilbert-base-uncased')\n",
        "tokenizer.save_pretrained('distilbert-base-uncased')"
      ]
    },
    {
      "cell_type": "markdown",
      "metadata": {
        "application/vnd.databricks.v1+cell": {
          "inputWidgets": {},
          "nuid": "f15d94bc-6ac7-434f-9424-4f0cbc678346",
          "showTitle": false,
          "title": ""
        },
        "id": "Q1t0oSGe7ycP"
      },
      "source": [
        "#### Extras"
      ]
    },
    {
      "cell_type": "code",
      "execution_count": null,
      "metadata": {
        "application/vnd.databricks.v1+cell": {
          "inputWidgets": {},
          "nuid": "e580bcc6-d6d1-47db-9e55-f84945b246c7",
          "showTitle": false,
          "title": ""
        },
        "id": "twDfgFnD7ycP",
        "outputId": "347792ab-38ab-4f16-819c-d7e163384fc7"
      },
      "outputs": [
        {
          "data": {
            "text/plain": [
              "array(['Store'], dtype=object)"
            ]
          },
          "execution_count": 62,
          "metadata": {},
          "output_type": "execute_result"
        }
      ],
      "source": [
        "lr_clf.predict(feature_gen(\"need to check\"))"
      ]
    },
    {
      "cell_type": "code",
      "execution_count": null,
      "metadata": {
        "application/vnd.databricks.v1+cell": {
          "inputWidgets": {},
          "nuid": "5f3ff0ce-30e9-4dac-a2a7-2e9cfc4aab62",
          "showTitle": false,
          "title": ""
        },
        "id": "UMCsZjsB7ycP",
        "outputId": "2b435853-f11d-4344-ea9d-9bb625821130"
      },
      "outputs": [
        {
          "data": {
            "text/plain": [
              "array(['Store'], dtype=object)"
            ]
          },
          "execution_count": 63,
          "metadata": {},
          "output_type": "execute_result"
        }
      ],
      "source": [
        "lr_clf.predict(feature_gen(\"completely lost\"))"
      ]
    },
    {
      "cell_type": "code",
      "execution_count": null,
      "metadata": {
        "application/vnd.databricks.v1+cell": {
          "inputWidgets": {},
          "nuid": "d191dfbe-252d-4307-8241-32f72de9b43c",
          "showTitle": false,
          "title": ""
        },
        "id": "lc1C0chp7ycQ",
        "outputId": "d334c00b-2573-4b23-f824-e6133beff14c"
      },
      "outputs": [
        {
          "data": {
            "text/plain": [
              "array(['Store'], dtype=object)"
            ]
          },
          "execution_count": 64,
          "metadata": {},
          "output_type": "execute_result"
        }
      ],
      "source": [
        "lr_clf.predict(feature_gen(\"what's the need\"))"
      ]
    },
    {
      "cell_type": "code",
      "execution_count": null,
      "metadata": {
        "application/vnd.databricks.v1+cell": {
          "inputWidgets": {},
          "nuid": "6b866201-bba7-4e03-90fd-9055f33f5b2f",
          "showTitle": false,
          "title": ""
        },
        "id": "prF6kl5K7ycQ",
        "outputId": "40aa0634-e9d8-45ae-cf61-65b8eac99fe5"
      },
      "outputs": [
        {
          "data": {
            "text/plain": [
              "array(['Product'], dtype=object)"
            ]
          },
          "execution_count": 65,
          "metadata": {},
          "output_type": "execute_result"
        }
      ],
      "source": [
        "lr_clf.predict(feature_gen(\"why should I\"))"
      ]
    },
    {
      "cell_type": "code",
      "execution_count": null,
      "metadata": {
        "application/vnd.databricks.v1+cell": {
          "inputWidgets": {},
          "nuid": "fb91c887-e627-4ea8-9ac1-d1d72fbf616b",
          "showTitle": false,
          "title": ""
        },
        "id": "F80FZHwO7ycQ"
      },
      "outputs": [],
      "source": [
        "import string"
      ]
    },
    {
      "cell_type": "code",
      "execution_count": null,
      "metadata": {
        "application/vnd.databricks.v1+cell": {
          "inputWidgets": {},
          "nuid": "db691e1d-4538-4863-8bfb-010dbfb0657c",
          "showTitle": false,
          "title": ""
        },
        "id": "7OqNlV5P7ycQ",
        "outputId": "68e11c74-5336-4167-e255-d80136c5666e"
      },
      "outputs": [
        {
          "data": {
            "text/plain": [
              "array(['Loyalty'], dtype=object)"
            ]
          },
          "execution_count": 67,
          "metadata": {},
          "output_type": "execute_result"
        }
      ],
      "source": [
        "lr_clf.predict(feature_gen(\"bill\"))"
      ]
    },
    {
      "cell_type": "markdown",
      "metadata": {
        "application/vnd.databricks.v1+cell": {
          "inputWidgets": {},
          "nuid": "99056fcb-55d1-4ea7-a597-5ab4b9ebdf1e",
          "showTitle": false,
          "title": ""
        },
        "id": "kJ6HC8Mo7ycQ"
      },
      "source": [
        "#### Persisitng"
      ]
    },
    {
      "cell_type": "code",
      "execution_count": null,
      "metadata": {
        "application/vnd.databricks.v1+cell": {
          "inputWidgets": {},
          "nuid": "69611edd-bdc5-4bdf-bc05-dce685a804db",
          "showTitle": false,
          "title": ""
        },
        "id": "efd90dR67ycR",
        "outputId": "50f73f59-e588-4807-b04c-e737a917d91c"
      },
      "outputs": [
        {
          "data": {
            "text/html": [
              "<style scoped>\n",
              "  .ansiout {\n",
              "    display: block;\n",
              "    unicode-bidi: embed;\n",
              "    white-space: pre-wrap;\n",
              "    word-wrap: break-word;\n",
              "    word-break: break-all;\n",
              "    font-family: \"Source Code Pro\", \"Menlo\", monospace;;\n",
              "    font-size: 13px;\n",
              "    color: #555;\n",
              "    margin-left: 4px;\n",
              "    line-height: 19px;\n",
              "  }\n",
              "</style>\n",
              "<div class=\"ansiout\"></div>"
            ]
          },
          "metadata": {
            "application/vnd.databricks.v1+output": {
              "addedWidgets": {},
              "arguments": {},
              "data": "<div class=\"ansiout\"></div>",
              "datasetInfos": [],
              "metadata": {},
              "removedWidgets": [],
              "type": "html"
            }
          },
          "output_type": "display_data"
        }
      ],
      "source": [
        "import pickle"
      ]
    },
    {
      "cell_type": "code",
      "execution_count": null,
      "metadata": {
        "application/vnd.databricks.v1+cell": {
          "inputWidgets": {},
          "nuid": "e878b9fc-5aef-4383-9c11-de9782b0d0c0",
          "showTitle": false,
          "title": ""
        },
        "id": "3ZMUM5Pe7ycR",
        "outputId": "c04d509f-df19-40fd-e110-eeaa0ffdd2ac"
      },
      "outputs": [
        {
          "data": {
            "text/html": [
              "<style scoped>\n",
              "  .ansiout {\n",
              "    display: block;\n",
              "    unicode-bidi: embed;\n",
              "    white-space: pre-wrap;\n",
              "    word-wrap: break-word;\n",
              "    word-break: break-all;\n",
              "    font-family: \"Source Code Pro\", \"Menlo\", monospace;;\n",
              "    font-size: 13px;\n",
              "    color: #555;\n",
              "    margin-left: 4px;\n",
              "    line-height: 19px;\n",
              "  }\n",
              "</style>\n",
              "<div class=\"ansiout\"></div>"
            ]
          },
          "metadata": {
            "application/vnd.databricks.v1+output": {
              "addedWidgets": {},
              "arguments": {},
              "data": "<div class=\"ansiout\"></div>",
              "datasetInfos": [],
              "metadata": {},
              "removedWidgets": [],
              "type": "html"
            }
          },
          "output_type": "display_data"
        }
      ],
      "source": [
        "# filename = '/dbfs/FileStore/tables/intent_classification/finalized_model_english_after_Datathon.sav'\n",
        "# pickle.dump(lr_clf, open(filename, 'wb'))"
      ]
    },
    {
      "cell_type": "markdown",
      "metadata": {
        "application/vnd.databricks.v1+cell": {
          "inputWidgets": {},
          "nuid": "d423e0d9-ebbe-459e-8987-800cc1fa4c86",
          "showTitle": false,
          "title": ""
        },
        "id": "PYihcd7I7ycR"
      },
      "source": [
        "## Loyalty Sub-Intent"
      ]
    },
    {
      "cell_type": "code",
      "execution_count": null,
      "metadata": {
        "application/vnd.databricks.v1+cell": {
          "inputWidgets": {},
          "nuid": "06a60821-b9ef-42a0-a3e8-9849e055670e",
          "showTitle": false,
          "title": ""
        },
        "id": "DPA6GmTt7ycR"
      },
      "outputs": [],
      "source": [
        "#df = pd.read_csv(\"/dbfs/FileStore/tables/intent_classification/finalized_questions1.csv\")\n",
        "df = pd.read_csv(\"finalized_questions1_after_datathon.csv\")"
      ]
    },
    {
      "cell_type": "code",
      "execution_count": null,
      "metadata": {
        "application/vnd.databricks.v1+cell": {
          "inputWidgets": {},
          "nuid": "6e392ed2-fe39-49b6-a9ed-d7f43114b461",
          "showTitle": false,
          "title": ""
        },
        "id": "3RqX9u9e7ycR",
        "outputId": "a60de158-bfd2-4ba8-8c4d-48d5fba4abc1"
      },
      "outputs": [
        {
          "data": {
            "text/html": [
              "<style scoped>\n",
              "  .ansiout {\n",
              "    display: block;\n",
              "    unicode-bidi: embed;\n",
              "    white-space: pre-wrap;\n",
              "    word-wrap: break-word;\n",
              "    word-break: break-all;\n",
              "    font-family: \"Source Code Pro\", \"Menlo\", monospace;;\n",
              "    font-size: 13px;\n",
              "    color: #555;\n",
              "    margin-left: 4px;\n",
              "    line-height: 19px;\n",
              "  }\n",
              "</style>\n",
              "<div class=\"ansiout\"></div>"
            ]
          },
          "metadata": {
            "application/vnd.databricks.v1+output": {
              "addedWidgets": {},
              "arguments": {},
              "data": "<div class=\"ansiout\"></div>",
              "datasetInfos": [],
              "metadata": {},
              "removedWidgets": [],
              "type": "html"
            }
          },
          "output_type": "display_data"
        }
      ],
      "source": [
        "#df.loc[len(df.index)] = [\"My loyalty\", \"Others\"]"
      ]
    },
    {
      "cell_type": "code",
      "execution_count": null,
      "metadata": {
        "application/vnd.databricks.v1+cell": {
          "inputWidgets": {},
          "nuid": "8f7592b8-271e-4c6c-9e6c-e78933ae357c",
          "showTitle": false,
          "title": ""
        },
        "id": "hEYqUKYV7ycR",
        "outputId": "da9db201-58c6-4231-b274-2f02f5084b42"
      },
      "outputs": [
        {
          "data": {
            "text/plain": [
              "(2285, 2)"
            ]
          },
          "execution_count": 127,
          "metadata": {},
          "output_type": "execute_result"
        }
      ],
      "source": [
        "df.shape"
      ]
    },
    {
      "cell_type": "code",
      "execution_count": null,
      "metadata": {
        "application/vnd.databricks.v1+cell": {
          "inputWidgets": {},
          "nuid": "e148d760-67f4-41a4-905e-575dc0298db8",
          "showTitle": false,
          "title": ""
        },
        "id": "K7J2kzCX7ycS",
        "outputId": "bb4c8981-ab89-4ce4-e1e2-5a8aa4c8917d"
      },
      "outputs": [
        {
          "data": {
            "text/html": [
              "<div>\n",
              "<style scoped>\n",
              "    .dataframe tbody tr th:only-of-type {\n",
              "        vertical-align: middle;\n",
              "    }\n",
              "\n",
              "    .dataframe tbody tr th {\n",
              "        vertical-align: top;\n",
              "    }\n",
              "\n",
              "    .dataframe thead th {\n",
              "        text-align: right;\n",
              "    }\n",
              "</style>\n",
              "<table border=\"1\" class=\"dataframe\">\n",
              "  <thead>\n",
              "    <tr style=\"text-align: right;\">\n",
              "      <th></th>\n",
              "      <th>Text</th>\n",
              "      <th>Sub-intent</th>\n",
              "    </tr>\n",
              "  </thead>\n",
              "  <tbody>\n",
              "    <tr>\n",
              "      <th>0</th>\n",
              "      <td>offer</td>\n",
              "      <td>Coupons</td>\n",
              "    </tr>\n",
              "    <tr>\n",
              "      <th>1</th>\n",
              "      <td>Enrol</td>\n",
              "      <td>Others</td>\n",
              "    </tr>\n",
              "    <tr>\n",
              "      <th>2</th>\n",
              "      <td>Do you have any offer which are running on pro...</td>\n",
              "      <td>Others</td>\n",
              "    </tr>\n",
              "    <tr>\n",
              "      <th>3</th>\n",
              "      <td>What kind of products are available under the ...</td>\n",
              "      <td>Others</td>\n",
              "    </tr>\n",
              "    <tr>\n",
              "      <th>4</th>\n",
              "      <td>How can I take this offer?</td>\n",
              "      <td>Others</td>\n",
              "    </tr>\n",
              "  </tbody>\n",
              "</table>\n",
              "</div>"
            ],
            "text/plain": [
              "                                                Text Sub-intent\n",
              "0                                              offer    Coupons\n",
              "1                                              Enrol     Others\n",
              "2  Do you have any offer which are running on pro...     Others\n",
              "3  What kind of products are available under the ...     Others\n",
              "4                         How can I take this offer?     Others"
            ]
          },
          "execution_count": 128,
          "metadata": {},
          "output_type": "execute_result"
        }
      ],
      "source": [
        "df.head()"
      ]
    },
    {
      "cell_type": "code",
      "execution_count": null,
      "metadata": {
        "application/vnd.databricks.v1+cell": {
          "inputWidgets": {},
          "nuid": "6a886dd9-2a94-4e97-b855-2d1e5ec1dc70",
          "showTitle": false,
          "title": ""
        },
        "id": "HRaL-ssf7ycS",
        "outputId": "bb706f9c-e332-466f-9115-0b8749537554"
      },
      "outputs": [
        {
          "name": "stdout",
          "output_type": "stream",
          "text": [
            "Total number of text after removing duplicates: 2079\n"
          ]
        }
      ],
      "source": [
        "df.sort_values('Text',inplace=True, ascending=True)\n",
        "duplicated_text_series = df.duplicated('Text', keep = False)\n",
        "df = df[~duplicated_text_series]\n",
        "print(\"Total number of text after removing duplicates:\", df.shape[0])"
      ]
    },
    {
      "cell_type": "code",
      "execution_count": null,
      "metadata": {
        "application/vnd.databricks.v1+cell": {
          "inputWidgets": {},
          "nuid": "deba09d0-fc1b-4a4b-b084-0ead43b23b4b",
          "showTitle": false,
          "title": ""
        },
        "id": "cF88IpFI7ycS"
      },
      "outputs": [],
      "source": [
        "df[\"Text\"] = df[\"Text\"].apply(punctuation_removal)"
      ]
    },
    {
      "cell_type": "code",
      "execution_count": null,
      "metadata": {
        "application/vnd.databricks.v1+cell": {
          "inputWidgets": {},
          "nuid": "106c72cc-59bd-4821-ba01-91a78cb9870f",
          "showTitle": false,
          "title": ""
        },
        "id": "Wi-0cfRK7ycS",
        "outputId": "fca07a85-a2b7-4c9f-c69b-b318d4f14781"
      },
      "outputs": [
        {
          "data": {
            "text/plain": [
              "Points     755\n",
              "Coupons    734\n",
              "Others     590\n",
              "Name: Sub-intent, dtype: int64"
            ]
          },
          "execution_count": 131,
          "metadata": {},
          "output_type": "execute_result"
        }
      ],
      "source": [
        "df[\"Sub-intent\"].value_counts()"
      ]
    },
    {
      "cell_type": "code",
      "execution_count": null,
      "metadata": {
        "application/vnd.databricks.v1+cell": {
          "inputWidgets": {},
          "nuid": "f2be27f0-4e3f-4124-84a6-09feca2590c1",
          "showTitle": false,
          "title": ""
        },
        "id": "A12Ldlop7ycS"
      },
      "outputs": [],
      "source": [
        "df[\"Text\"] = df[\"Text\"].astype(str)\n",
        "df[\"Sub-intent\"] = df[\"Sub-intent\"].astype(str)"
      ]
    },
    {
      "cell_type": "code",
      "execution_count": null,
      "metadata": {
        "application/vnd.databricks.v1+cell": {
          "inputWidgets": {},
          "nuid": "5cff090e-f13f-46c8-8b1a-e22b52ce1554",
          "showTitle": false,
          "title": ""
        },
        "id": "_8TkMSNx7ycS",
        "outputId": "8006b7a9-54c9-4752-a0bd-2e3a526329d5"
      },
      "outputs": [
        {
          "name": "stderr",
          "output_type": "stream",
          "text": [
            "All model checkpoint layers were used when initializing TFDistilBertModel.\n",
            "\n",
            "All the layers of TFDistilBertModel were initialized from the model checkpoint at distilbert-base-uncased.\n",
            "If your task is similar to the task the model of the checkpoint was trained on, you can already use TFDistilBertModel for predictions without further training.\n"
          ]
        }
      ],
      "source": [
        "tokenizer = DistilBertTokenizer.from_pretrained(distil_bert)\n",
        "model = TFDistilBertModel.from_pretrained(distil_bert)"
      ]
    },
    {
      "cell_type": "code",
      "execution_count": null,
      "metadata": {
        "application/vnd.databricks.v1+cell": {
          "inputWidgets": {},
          "nuid": "faffa81b-3689-4ac1-af9c-fed5d1d938f6",
          "showTitle": false,
          "title": ""
        },
        "id": "jk8vAuAC7ycT"
      },
      "outputs": [],
      "source": [
        "tokenized = df[\"Text\"].apply((lambda x: tokenizer.encode(x, add_special_tokens=True)))"
      ]
    },
    {
      "cell_type": "code",
      "execution_count": null,
      "metadata": {
        "application/vnd.databricks.v1+cell": {
          "inputWidgets": {},
          "nuid": "d169a1f8-940d-441d-b1c9-9276d435277f",
          "showTitle": false,
          "title": ""
        },
        "id": "vpLAPQ9Y7ycT"
      },
      "outputs": [],
      "source": [
        "max_len = 50\n",
        "padded = np.array([i + [0]*(max_len-len(i)) for i in tokenized.values])"
      ]
    },
    {
      "cell_type": "code",
      "execution_count": null,
      "metadata": {
        "application/vnd.databricks.v1+cell": {
          "inputWidgets": {},
          "nuid": "5cdc7bb0-498d-408b-bacc-e7a0565f28b9",
          "showTitle": false,
          "title": ""
        },
        "id": "AozCA3xB7ycT",
        "outputId": "33cf18ae-c0d6-4366-9530-cfdaa3b6d6d3"
      },
      "outputs": [
        {
          "data": {
            "text/plain": [
              "(2079, 50)"
            ]
          },
          "execution_count": 84,
          "metadata": {},
          "output_type": "execute_result"
        }
      ],
      "source": [
        "attention_mask = np.where(padded != 0, 1, 0)\n",
        "attention_mask.shape"
      ]
    },
    {
      "cell_type": "code",
      "execution_count": null,
      "metadata": {
        "application/vnd.databricks.v1+cell": {
          "inputWidgets": {},
          "nuid": "9d2df37b-b334-43a2-b306-6ae639a7e582",
          "showTitle": false,
          "title": ""
        },
        "id": "0YZEajbr7ycT"
      },
      "outputs": [],
      "source": [
        "input_ids =tf.convert_to_tensor(padded)\n",
        "attention_mask = tf.convert_to_tensor(attention_mask)"
      ]
    },
    {
      "cell_type": "code",
      "execution_count": null,
      "metadata": {
        "application/vnd.databricks.v1+cell": {
          "inputWidgets": {},
          "nuid": "5a5fcffa-7419-45cd-ad0a-07613cc0ea3f",
          "showTitle": false,
          "title": ""
        },
        "id": "r9V_qI107ycT"
      },
      "outputs": [],
      "source": [
        "last_hidden_states = model(input_ids, attention_mask=attention_mask)"
      ]
    },
    {
      "cell_type": "code",
      "execution_count": null,
      "metadata": {
        "application/vnd.databricks.v1+cell": {
          "inputWidgets": {},
          "nuid": "e9df7fc3-cf9f-4749-8bc1-78e0c1ea8f39",
          "showTitle": false,
          "title": ""
        },
        "id": "ZFhpBW3_7ycT"
      },
      "outputs": [],
      "source": [
        "features = last_hidden_states[0][:,0,:].numpy()"
      ]
    },
    {
      "cell_type": "code",
      "execution_count": null,
      "metadata": {
        "application/vnd.databricks.v1+cell": {
          "inputWidgets": {},
          "nuid": "36170186-dfb1-41a0-ad60-948ee7167040",
          "showTitle": false,
          "title": ""
        },
        "id": "5gVzzWGE7ycT"
      },
      "outputs": [],
      "source": [
        "labels = df[\"Sub-intent\"]"
      ]
    },
    {
      "cell_type": "code",
      "execution_count": null,
      "metadata": {
        "application/vnd.databricks.v1+cell": {
          "inputWidgets": {},
          "nuid": "a4332679-bb73-4c82-90a8-80993d148ab5",
          "showTitle": false,
          "title": ""
        },
        "id": "klSUE7yq7ycU"
      },
      "outputs": [],
      "source": [
        "train_features, test_features, train_labels, test_labels = train_test_split(features, labels, random_state=42)"
      ]
    },
    {
      "cell_type": "code",
      "execution_count": null,
      "metadata": {
        "application/vnd.databricks.v1+cell": {
          "inputWidgets": {},
          "nuid": "3ea1b8af-565f-4807-83d6-ca0b4bfb1f59",
          "showTitle": false,
          "title": ""
        },
        "id": "pSdy2DQz7ycU",
        "outputId": "ed7da343-e2fd-4404-cb76-dd3c46edd32c"
      },
      "outputs": [
        {
          "data": {
            "text/plain": [
              "(1559, 768)"
            ]
          },
          "execution_count": 90,
          "metadata": {},
          "output_type": "execute_result"
        }
      ],
      "source": [
        "train_features.shape"
      ]
    },
    {
      "cell_type": "code",
      "execution_count": null,
      "metadata": {
        "application/vnd.databricks.v1+cell": {
          "inputWidgets": {},
          "nuid": "43faa40a-667f-46e1-9a12-c0189f5895bb",
          "showTitle": false,
          "title": ""
        },
        "id": "lDOayvXW7ycU",
        "outputId": "27d1adc1-88f8-4c50-88ec-986bbf0d36b5"
      },
      "outputs": [
        {
          "data": {
            "text/plain": [
              "(1559,)"
            ]
          },
          "execution_count": 91,
          "metadata": {},
          "output_type": "execute_result"
        }
      ],
      "source": [
        "train_labels.shape"
      ]
    },
    {
      "cell_type": "code",
      "execution_count": null,
      "metadata": {
        "application/vnd.databricks.v1+cell": {
          "inputWidgets": {},
          "nuid": "2b4bbb49-ae23-4cba-891f-6939a111234b",
          "showTitle": false,
          "title": ""
        },
        "id": "X0OQyM6B7ycU",
        "outputId": "03075a66-569a-4f32-9931-b933439c3e2b"
      },
      "outputs": [
        {
          "data": {
            "text/html": [
              "<style scoped>\n",
              "  .ansiout {\n",
              "    display: block;\n",
              "    unicode-bidi: embed;\n",
              "    white-space: pre-wrap;\n",
              "    word-wrap: break-word;\n",
              "    word-break: break-all;\n",
              "    font-family: \"Source Code Pro\", \"Menlo\", monospace;;\n",
              "    font-size: 13px;\n",
              "    color: #555;\n",
              "    margin-left: 4px;\n",
              "    line-height: 19px;\n",
              "  }\n",
              "</style>\n",
              "<div class=\"ansiout\"></div>"
            ]
          },
          "metadata": {
            "application/vnd.databricks.v1+output": {
              "addedWidgets": {},
              "arguments": {},
              "data": "<div class=\"ansiout\"></div>",
              "datasetInfos": [],
              "metadata": {},
              "removedWidgets": [],
              "type": "html"
            }
          },
          "output_type": "display_data"
        },
        {
          "data": {
            "text/html": [
              "<style scoped>\n",
              "  .ansiout {\n",
              "    display: block;\n",
              "    unicode-bidi: embed;\n",
              "    white-space: pre-wrap;\n",
              "    word-wrap: break-word;\n",
              "    word-break: break-all;\n",
              "    font-family: \"Source Code Pro\", \"Menlo\", monospace;;\n",
              "    font-size: 13px;\n",
              "    color: #555;\n",
              "    margin-left: 4px;\n",
              "    line-height: 19px;\n",
              "  }\n",
              "</style>\n",
              "<div class=\"ansiout\"><span class=\"ansi-red-fg\">---------------------------------------------------------------------------</span>\n",
              "<span class=\"ansi-red-fg\">AttributeError</span>                            Traceback (most recent call last)\n",
              "<span class=\"ansi-green-fg\">&lt;command-3952795988958885&gt;</span> in <span class=\"ansi-cyan-fg\">&lt;module&gt;</span>\n",
              "<span class=\"ansi-green-intense-fg ansi-bold\">      1</span> <span class=\"ansi-green-fg\">from</span> sklearn<span class=\"ansi-blue-fg\">.</span>naive_bayes <span class=\"ansi-green-fg\">import</span> GaussianNB\n",
              "<span class=\"ansi-green-intense-fg ansi-bold\">      2</span> lr_clf <span class=\"ansi-blue-fg\">=</span> GaussianNB<span class=\"ansi-blue-fg\">(</span><span class=\"ansi-blue-fg\">)</span>\n",
              "<span class=\"ansi-green-fg\">----&gt; 3</span><span class=\"ansi-red-fg\"> </span>lr_clf<span class=\"ansi-blue-fg\">.</span>fit<span class=\"ansi-blue-fg\">(</span>train_features<span class=\"ansi-blue-fg\">,</span> train_labels<span class=\"ansi-blue-fg\">)</span>\n",
              "\n",
              "<span class=\"ansi-green-fg\">/databricks/python/lib/python3.7/site-packages/sklearn/naive_bayes.py</span> in <span class=\"ansi-cyan-fg\">fit</span><span class=\"ansi-blue-fg\">(self, X, y, sample_weight)</span>\n",
              "<span class=\"ansi-green-intense-fg ansi-bold\">    205</span>         self <span class=\"ansi-blue-fg\">:</span> object\n",
              "<span class=\"ansi-green-intense-fg ansi-bold\">    206</span>         &#34;&#34;&#34;\n",
              "<span class=\"ansi-green-fg\">--&gt; 207</span><span class=\"ansi-red-fg\">         </span>X<span class=\"ansi-blue-fg\">,</span> y <span class=\"ansi-blue-fg\">=</span> self<span class=\"ansi-blue-fg\">.</span>_validate_data<span class=\"ansi-blue-fg\">(</span>X<span class=\"ansi-blue-fg\">,</span> y<span class=\"ansi-blue-fg\">)</span>\n",
              "<span class=\"ansi-green-intense-fg ansi-bold\">    208</span>         y <span class=\"ansi-blue-fg\">=</span> column_or_1d<span class=\"ansi-blue-fg\">(</span>y<span class=\"ansi-blue-fg\">,</span> warn<span class=\"ansi-blue-fg\">=</span><span class=\"ansi-green-fg\">True</span><span class=\"ansi-blue-fg\">)</span>\n",
              "<span class=\"ansi-green-intense-fg ansi-bold\">    209</span>         return self._partial_fit(X, y, np.unique(y), _refit=True,\n",
              "\n",
              "<span class=\"ansi-red-fg\">AttributeError</span>: &#39;GaussianNB&#39; object has no attribute &#39;_validate_data&#39;</div>"
            ]
          },
          "metadata": {
            "application/vnd.databricks.v1+output": {
              "arguments": {},
              "data": "<div class=\"ansiout\"><span class=\"ansi-red-fg\">---------------------------------------------------------------------------</span>\n<span class=\"ansi-red-fg\">AttributeError</span>                            Traceback (most recent call last)\n<span class=\"ansi-green-fg\">&lt;command-3952795988958885&gt;</span> in <span class=\"ansi-cyan-fg\">&lt;module&gt;</span>\n<span class=\"ansi-green-intense-fg ansi-bold\">      1</span> <span class=\"ansi-green-fg\">from</span> sklearn<span class=\"ansi-blue-fg\">.</span>naive_bayes <span class=\"ansi-green-fg\">import</span> GaussianNB\n<span class=\"ansi-green-intense-fg ansi-bold\">      2</span> lr_clf <span class=\"ansi-blue-fg\">=</span> GaussianNB<span class=\"ansi-blue-fg\">(</span><span class=\"ansi-blue-fg\">)</span>\n<span class=\"ansi-green-fg\">----&gt; 3</span><span class=\"ansi-red-fg\"> </span>lr_clf<span class=\"ansi-blue-fg\">.</span>fit<span class=\"ansi-blue-fg\">(</span>train_features<span class=\"ansi-blue-fg\">,</span> train_labels<span class=\"ansi-blue-fg\">)</span>\n\n<span class=\"ansi-green-fg\">/databricks/python/lib/python3.7/site-packages/sklearn/naive_bayes.py</span> in <span class=\"ansi-cyan-fg\">fit</span><span class=\"ansi-blue-fg\">(self, X, y, sample_weight)</span>\n<span class=\"ansi-green-intense-fg ansi-bold\">    205</span>         self <span class=\"ansi-blue-fg\">:</span> object\n<span class=\"ansi-green-intense-fg ansi-bold\">    206</span>         &#34;&#34;&#34;\n<span class=\"ansi-green-fg\">--&gt; 207</span><span class=\"ansi-red-fg\">         </span>X<span class=\"ansi-blue-fg\">,</span> y <span class=\"ansi-blue-fg\">=</span> self<span class=\"ansi-blue-fg\">.</span>_validate_data<span class=\"ansi-blue-fg\">(</span>X<span class=\"ansi-blue-fg\">,</span> y<span class=\"ansi-blue-fg\">)</span>\n<span class=\"ansi-green-intense-fg ansi-bold\">    208</span>         y <span class=\"ansi-blue-fg\">=</span> column_or_1d<span class=\"ansi-blue-fg\">(</span>y<span class=\"ansi-blue-fg\">,</span> warn<span class=\"ansi-blue-fg\">=</span><span class=\"ansi-green-fg\">True</span><span class=\"ansi-blue-fg\">)</span>\n<span class=\"ansi-green-intense-fg ansi-bold\">    209</span>         return self._partial_fit(X, y, np.unique(y), _refit=True,\n\n<span class=\"ansi-red-fg\">AttributeError</span>: &#39;GaussianNB&#39; object has no attribute &#39;_validate_data&#39;</div>",
              "errorSummary": "<span class=\"ansi-red-fg\">AttributeError</span>: &#39;GaussianNB&#39; object has no attribute &#39;_validate_data&#39;",
              "metadata": {},
              "type": "ipynbError"
            }
          },
          "output_type": "display_data"
        }
      ],
      "source": [
        "#from sklearn.naive_bayes import GaussianNB\n",
        "#lr_clf = GaussianNB()\n",
        "#lr_clf.fit(train_features, train_labels)"
      ]
    },
    {
      "cell_type": "code",
      "execution_count": null,
      "metadata": {
        "application/vnd.databricks.v1+cell": {
          "inputWidgets": {},
          "nuid": "e764eb6f-4ac2-45cc-9328-4f085f90dba3",
          "showTitle": false,
          "title": ""
        },
        "id": "vT_6s6on7ycU",
        "outputId": "8b47f704-dabb-4f3f-a7f2-0a5035f52af1"
      },
      "outputs": [
        {
          "name": "stderr",
          "output_type": "stream",
          "text": [
            "/home/deepakchawala/PycharmProjects/HBChawlaProjects/geekeeprojectModules/texttocode/venv/lib/python3.6/site-packages/sklearn/svm/_base.py:986: ConvergenceWarning: Liblinear failed to converge, increase the number of iterations.\n",
            "  \"the number of iterations.\", ConvergenceWarning)\n"
          ]
        },
        {
          "data": {
            "text/plain": [
              "LinearSVC(class_weight='balanced', random_state=44)"
            ]
          },
          "execution_count": 92,
          "metadata": {},
          "output_type": "execute_result"
        }
      ],
      "source": [
        "lr_clf=LinearSVC(class_weight='balanced',random_state=44)\n",
        "lr_clf.fit(train_features, train_labels)"
      ]
    },
    {
      "cell_type": "code",
      "execution_count": null,
      "metadata": {
        "application/vnd.databricks.v1+cell": {
          "inputWidgets": {},
          "nuid": "6a5d497d-e2f0-4c1e-9b60-00c0c838d071",
          "showTitle": false,
          "title": ""
        },
        "id": "A1sjYkkv7ycU",
        "outputId": "1f9e3759-3bc1-4ddf-d10e-8aab32025c57"
      },
      "outputs": [
        {
          "data": {
            "text/html": [
              "<style scoped>\n",
              "  .ansiout {\n",
              "    display: block;\n",
              "    unicode-bidi: embed;\n",
              "    white-space: pre-wrap;\n",
              "    word-wrap: break-word;\n",
              "    word-break: break-all;\n",
              "    font-family: \"Source Code Pro\", \"Menlo\", monospace;;\n",
              "    font-size: 13px;\n",
              "    color: #555;\n",
              "    margin-left: 4px;\n",
              "    line-height: 19px;\n",
              "  }\n",
              "</style>\n",
              "<div class=\"ansiout\"></div>"
            ]
          },
          "metadata": {
            "application/vnd.databricks.v1+output": {
              "addedWidgets": {},
              "arguments": {},
              "data": "<div class=\"ansiout\"></div>",
              "datasetInfos": [],
              "metadata": {},
              "removedWidgets": [],
              "type": "html"
            }
          },
          "output_type": "display_data"
        }
      ],
      "source": [
        "# lr_clf = LogisticRegression(multi_class = \"multinomial\",random_state=42)\n",
        "# lr_clf.fit(train_features, train_labels)"
      ]
    },
    {
      "cell_type": "code",
      "execution_count": null,
      "metadata": {
        "application/vnd.databricks.v1+cell": {
          "inputWidgets": {},
          "nuid": "2d7a61f3-2591-493f-81d1-8e8e5bb3dcc1",
          "showTitle": false,
          "title": ""
        },
        "id": "1AoOrpev7ycV",
        "outputId": "7256879d-d64d-4326-cd77-392c9710885f"
      },
      "outputs": [
        {
          "data": {
            "text/html": [
              "<style scoped>\n",
              "  .ansiout {\n",
              "    display: block;\n",
              "    unicode-bidi: embed;\n",
              "    white-space: pre-wrap;\n",
              "    word-wrap: break-word;\n",
              "    word-break: break-all;\n",
              "    font-family: \"Source Code Pro\", \"Menlo\", monospace;;\n",
              "    font-size: 13px;\n",
              "    color: #555;\n",
              "    margin-left: 4px;\n",
              "    line-height: 19px;\n",
              "  }\n",
              "</style>\n",
              "<div class=\"ansiout\"></div>"
            ]
          },
          "metadata": {
            "application/vnd.databricks.v1+output": {
              "addedWidgets": {},
              "arguments": {},
              "data": "<div class=\"ansiout\"></div>",
              "datasetInfos": [],
              "metadata": {},
              "removedWidgets": [],
              "type": "html"
            }
          },
          "output_type": "display_data"
        }
      ],
      "source": [
        "import pickle\n",
        "filename = '/dbfs/FileStore/tables/intent_classification/finalized_loyalty_subintent_after_datathon.sav'\n",
        "lr_clf = pickle.load(open(filename, 'rb'))"
      ]
    },
    {
      "cell_type": "code",
      "execution_count": null,
      "metadata": {
        "application/vnd.databricks.v1+cell": {
          "inputWidgets": {},
          "nuid": "5d3bae37-5c65-4936-9f68-ceb3a6897f43",
          "showTitle": false,
          "title": ""
        },
        "id": "9w1RfMKp7ycV",
        "outputId": "13e80345-0ecb-41ff-cc11-32eae04f0b17"
      },
      "outputs": [
        {
          "data": {
            "text/plain": [
              "0.9230769230769231"
            ]
          },
          "execution_count": 93,
          "metadata": {},
          "output_type": "execute_result"
        }
      ],
      "source": [
        "lr_clf.score(test_features, test_labels)"
      ]
    },
    {
      "cell_type": "code",
      "execution_count": null,
      "metadata": {
        "application/vnd.databricks.v1+cell": {
          "inputWidgets": {},
          "nuid": "7abf1d4b-75be-4800-b563-6aa225379fda",
          "showTitle": false,
          "title": ""
        },
        "id": "yancptkM7ycV"
      },
      "outputs": [],
      "source": [
        "def feature_gen(text):\n",
        "    text = [i for i in text if i not in string.punctuation]\n",
        "    text = \"\".join(text)\n",
        "    dummy = tokenizer.encode(text,add_special_tokens=True)\n",
        "    dummy_padded = np.array([dummy + [0]*(max_len-len(dummy))])\n",
        "    dummy_attention_mask = np.where(dummy_padded != 0, 1, 0)\n",
        "    dummy_input_ids =tf.convert_to_tensor(dummy_padded)\n",
        "    dummy_attention_mask = tf.convert_to_tensor(dummy_attention_mask)\n",
        "    dummy_last_hidden_states = model(dummy_input_ids, attention_mask=dummy_attention_mask)\n",
        "    dummy_features = dummy_last_hidden_states[0][:,0,:].numpy()\n",
        "    return dummy_features"
      ]
    },
    {
      "cell_type": "code",
      "execution_count": null,
      "metadata": {
        "application/vnd.databricks.v1+cell": {
          "inputWidgets": {},
          "nuid": "1a62a00e-9de2-475a-bbc0-f060917bf3e8",
          "showTitle": false,
          "title": ""
        },
        "id": "NoWnG0c27ycV",
        "outputId": "9cbeaca7-37ad-4e87-c346-ae252da98b38"
      },
      "outputs": [
        {
          "data": {
            "text/plain": [
              "'Coupons'"
            ]
          },
          "execution_count": 95,
          "metadata": {},
          "output_type": "execute_result"
        }
      ],
      "source": [
        "lr_clf.predict(feature_gen(\"offers\"))[0]"
      ]
    },
    {
      "cell_type": "code",
      "execution_count": null,
      "metadata": {
        "application/vnd.databricks.v1+cell": {
          "inputWidgets": {},
          "nuid": "6a797324-e7b4-4cea-ab15-6838749f0c30",
          "showTitle": false,
          "title": ""
        },
        "id": "BIdjreT67ycV",
        "outputId": "ac514118-f8cd-40c0-e240-3b61d77e534d"
      },
      "outputs": [
        {
          "data": {
            "text/plain": [
              "'Coupons'"
            ]
          },
          "execution_count": 96,
          "metadata": {},
          "output_type": "execute_result"
        }
      ],
      "source": [
        "lr_clf.predict(feature_gen(\"want to know about redemption of gift vouchers\"))[0]"
      ]
    },
    {
      "cell_type": "code",
      "execution_count": null,
      "metadata": {
        "application/vnd.databricks.v1+cell": {
          "inputWidgets": {},
          "nuid": "799d7fec-6a0c-4d4c-ac5c-52ff1c70704b",
          "showTitle": false,
          "title": ""
        },
        "id": "iOSVXja87ycV",
        "outputId": "80307aa2-6328-45c8-98e7-24391c2583d5"
      },
      "outputs": [
        {
          "data": {
            "text/plain": [
              "'Coupons'"
            ]
          },
          "execution_count": 97,
          "metadata": {},
          "output_type": "execute_result"
        }
      ],
      "source": [
        "lr_clf.predict(feature_gen(\"Can I generate gift voucher online?\"))[0]"
      ]
    },
    {
      "cell_type": "code",
      "execution_count": null,
      "metadata": {
        "application/vnd.databricks.v1+cell": {
          "inputWidgets": {},
          "nuid": "c4998859-c416-4bad-ba3b-b36264a1041f",
          "showTitle": false,
          "title": ""
        },
        "id": "bL-JteqC7ycV",
        "outputId": "eb5490de-4312-4b49-d88c-b194c633ba65"
      },
      "outputs": [
        {
          "data": {
            "text/plain": [
              "'Coupons'"
            ]
          },
          "execution_count": 98,
          "metadata": {},
          "output_type": "execute_result"
        }
      ],
      "source": [
        "lr_clf.predict(feature_gen(\"gift vouchers\"))[0]"
      ]
    },
    {
      "cell_type": "code",
      "execution_count": null,
      "metadata": {
        "application/vnd.databricks.v1+cell": {
          "inputWidgets": {},
          "nuid": "9573ca0f-f39f-4b83-a99b-a630f5a97a48",
          "showTitle": false,
          "title": ""
        },
        "id": "vFS0tviq7ycW",
        "outputId": "ad4275d2-6221-41e5-b596-0fd541188744"
      },
      "outputs": [
        {
          "data": {
            "text/plain": [
              "'Coupons'"
            ]
          },
          "execution_count": 99,
          "metadata": {},
          "output_type": "execute_result"
        }
      ],
      "source": [
        "lr_clf.predict(feature_gen(\"vouchers\"))[0]"
      ]
    },
    {
      "cell_type": "code",
      "execution_count": null,
      "metadata": {
        "application/vnd.databricks.v1+cell": {
          "inputWidgets": {},
          "nuid": "afe72ba9-1e33-43bb-8b14-194bcf1bd6e1",
          "showTitle": false,
          "title": ""
        },
        "id": "P9HGImHV7ycW",
        "outputId": "7f905871-a177-461e-d3d2-06df8a075e64"
      },
      "outputs": [
        {
          "data": {
            "text/plain": [
              "'Points'"
            ]
          },
          "execution_count": 100,
          "metadata": {},
          "output_type": "execute_result"
        }
      ],
      "source": [
        "lr_clf.predict(feature_gen(\"point\"))[0]"
      ]
    },
    {
      "cell_type": "code",
      "execution_count": null,
      "metadata": {
        "application/vnd.databricks.v1+cell": {
          "inputWidgets": {},
          "nuid": "0bf7ed27-34c5-4090-b288-64ce72dc4b3e",
          "showTitle": false,
          "title": ""
        },
        "id": "MNcU2tjF7ycW",
        "outputId": "cd49c4b8-fbd3-4468-92d3-ef23af465fa9"
      },
      "outputs": [
        {
          "data": {
            "text/plain": [
              "'Others'"
            ]
          },
          "execution_count": 101,
          "metadata": {},
          "output_type": "execute_result"
        }
      ],
      "source": [
        "lr_clf.predict(feature_gen(\"what different loyalty programme you have\"))[0]"
      ]
    },
    {
      "cell_type": "code",
      "execution_count": null,
      "metadata": {
        "application/vnd.databricks.v1+cell": {
          "inputWidgets": {},
          "nuid": "4de23504-e703-42b7-a96b-4584ae2f4689",
          "showTitle": false,
          "title": ""
        },
        "id": "uoE1vcyR7ycW",
        "outputId": "7ccc0e55-4f25-44f8-eab9-85bf5331676c"
      },
      "outputs": [
        {
          "data": {
            "text/plain": [
              "'Others'"
            ]
          },
          "execution_count": 102,
          "metadata": {},
          "output_type": "execute_result"
        }
      ],
      "source": [
        "lr_clf.predict(feature_gen(\"on which date did I enroll\"))[0]"
      ]
    },
    {
      "cell_type": "code",
      "execution_count": null,
      "metadata": {
        "application/vnd.databricks.v1+cell": {
          "inputWidgets": {},
          "nuid": "3978d56b-f789-4de5-8b9a-aaa836ddbc35",
          "showTitle": false,
          "title": ""
        },
        "id": "1R0DZzSO7ycW",
        "outputId": "c53b0a24-9327-42da-e08e-bf0e557cff50"
      },
      "outputs": [
        {
          "data": {
            "text/plain": [
              "'Points'"
            ]
          },
          "execution_count": 103,
          "metadata": {},
          "output_type": "execute_result"
        }
      ],
      "source": [
        "lr_clf.predict(feature_gen(\"can I redeem points on above 4000 transactions\"))[0]"
      ]
    },
    {
      "cell_type": "code",
      "execution_count": null,
      "metadata": {
        "application/vnd.databricks.v1+cell": {
          "inputWidgets": {},
          "nuid": "bd8c1236-754e-4fc9-87aa-0e06f59de1e4",
          "showTitle": false,
          "title": ""
        },
        "id": "SR9OkYSg7ycX",
        "outputId": "7be0d64a-cd8e-4b61-d4f3-b7793d5b704e"
      },
      "outputs": [
        {
          "data": {
            "text/plain": [
              "'Others'"
            ]
          },
          "execution_count": 105,
          "metadata": {},
          "output_type": "execute_result"
        }
      ],
      "source": [
        "lr_clf.predict(feature_gen(\"in which month did I enroll\"))[0]"
      ]
    },
    {
      "cell_type": "code",
      "execution_count": null,
      "metadata": {
        "application/vnd.databricks.v1+cell": {
          "inputWidgets": {},
          "nuid": "7eaafa2f-a410-414a-b3a3-738d1932ac95",
          "showTitle": false,
          "title": ""
        },
        "id": "UQzKwxPC7ycX",
        "outputId": "f5114b14-6a90-4af5-8880-38eca9e7a317"
      },
      "outputs": [
        {
          "data": {
            "text/plain": [
              "'Others'"
            ]
          },
          "execution_count": 106,
          "metadata": {},
          "output_type": "execute_result"
        }
      ],
      "source": [
        "lr_clf.predict(feature_gen(\"how many rewards will I get\"))[0]"
      ]
    },
    {
      "cell_type": "code",
      "execution_count": null,
      "metadata": {
        "application/vnd.databricks.v1+cell": {
          "inputWidgets": {},
          "nuid": "20bfb50d-e0b5-4677-96b2-44b953ce82aa",
          "showTitle": false,
          "title": ""
        },
        "id": "9cO3jOIM7ycX",
        "outputId": "d53ea843-354b-47ae-a270-e92aa6abe919"
      },
      "outputs": [
        {
          "data": {
            "text/plain": [
              "'Coupons'"
            ]
          },
          "execution_count": 107,
          "metadata": {},
          "output_type": "execute_result"
        }
      ],
      "source": [
        "lr_clf.predict(feature_gen(\"rewards\"))[0]"
      ]
    },
    {
      "cell_type": "code",
      "execution_count": null,
      "metadata": {
        "application/vnd.databricks.v1+cell": {
          "inputWidgets": {},
          "nuid": "ccfaf0ad-9bc6-4f56-804d-53632d0905a1",
          "showTitle": false,
          "title": ""
        },
        "id": "yGoxZB5X7ycX",
        "outputId": "e4b85413-b67a-48d6-b28a-a3b19ad35447"
      },
      "outputs": [
        {
          "data": {
            "text/plain": [
              "'Coupons'"
            ]
          },
          "execution_count": 108,
          "metadata": {},
          "output_type": "execute_result"
        }
      ],
      "source": [
        "lr_clf.predict(feature_gen(\"reward\"))[0]"
      ]
    },
    {
      "cell_type": "code",
      "execution_count": null,
      "metadata": {
        "application/vnd.databricks.v1+cell": {
          "inputWidgets": {},
          "nuid": "b73783d3-fc5f-4cd3-972e-7bf8c0ba2cb6",
          "showTitle": false,
          "title": ""
        },
        "id": "FRTcw6kT7ycX",
        "outputId": "5609381f-3ed4-4b00-c572-9deee09ad332"
      },
      "outputs": [
        {
          "data": {
            "text/plain": [
              "'Points'"
            ]
          },
          "execution_count": 109,
          "metadata": {},
          "output_type": "execute_result"
        }
      ],
      "source": [
        "lr_clf.predict(feature_gen(\"super coins\"))[0]"
      ]
    },
    {
      "cell_type": "code",
      "execution_count": null,
      "metadata": {
        "application/vnd.databricks.v1+cell": {
          "inputWidgets": {},
          "nuid": "c7277461-9152-4621-9288-871aac9740f5",
          "showTitle": false,
          "title": ""
        },
        "id": "XaA-vI3p7ycY",
        "outputId": "fb129a33-dc0c-43b6-8f74-5d7fa9fc0014"
      },
      "outputs": [
        {
          "data": {
            "text/html": [
              "<style scoped>\n",
              "  .ansiout {\n",
              "    display: block;\n",
              "    unicode-bidi: embed;\n",
              "    white-space: pre-wrap;\n",
              "    word-wrap: break-word;\n",
              "    word-break: break-all;\n",
              "    font-family: \"Source Code Pro\", \"Menlo\", monospace;;\n",
              "    font-size: 13px;\n",
              "    color: #555;\n",
              "    margin-left: 4px;\n",
              "    line-height: 19px;\n",
              "  }\n",
              "</style>\n",
              "<div class=\"ansiout\">Out[108]: &#39;Others&#39;</div>"
            ]
          },
          "metadata": {
            "application/vnd.databricks.v1+output": {
              "addedWidgets": {},
              "arguments": {},
              "data": "<div class=\"ansiout\">Out[108]: &#39;Others&#39;</div>",
              "datasetInfos": [],
              "metadata": {},
              "removedWidgets": [],
              "type": "html"
            }
          },
          "output_type": "display_data"
        }
      ],
      "source": [
        "lr_clf.predict(feature_gen(\"how to enroll for loyalty\"))[0]"
      ]
    },
    {
      "cell_type": "code",
      "execution_count": null,
      "metadata": {
        "application/vnd.databricks.v1+cell": {
          "inputWidgets": {},
          "nuid": "efd750bb-39f2-432b-ac12-a72a78628339",
          "showTitle": false,
          "title": ""
        },
        "id": "XacW08CL7ycY",
        "outputId": "b90e5261-9ee3-46ba-a8ae-4c8ae33f6fc4"
      },
      "outputs": [
        {
          "data": {
            "text/plain": [
              "'Coupons'"
            ]
          },
          "execution_count": 110,
          "metadata": {},
          "output_type": "execute_result"
        }
      ],
      "source": [
        "lr_clf.predict(feature_gen(\"voucher\"))[0]"
      ]
    },
    {
      "cell_type": "markdown",
      "metadata": {
        "application/vnd.databricks.v1+cell": {
          "inputWidgets": {},
          "nuid": "7158ba8e-7b79-48cb-8001-a2f93a0776ab",
          "showTitle": false,
          "title": ""
        },
        "id": "1keA51Kj7ycY"
      },
      "source": [
        "### Fails"
      ]
    },
    {
      "cell_type": "code",
      "execution_count": null,
      "metadata": {
        "application/vnd.databricks.v1+cell": {
          "inputWidgets": {},
          "nuid": "8e023278-c092-4e52-9485-754316e45d82",
          "showTitle": false,
          "title": ""
        },
        "id": "xxuWvSts7ycY",
        "outputId": "200b0a19-a22f-47e1-8556-b21b950ba138"
      },
      "outputs": [
        {
          "data": {
            "text/plain": [
              "'Others'"
            ]
          },
          "execution_count": 111,
          "metadata": {},
          "output_type": "execute_result"
        }
      ],
      "source": [
        "lr_clf.predict(feature_gen(\"any offers for me\"))[0]"
      ]
    },
    {
      "cell_type": "code",
      "execution_count": null,
      "metadata": {
        "application/vnd.databricks.v1+cell": {
          "inputWidgets": {},
          "nuid": "c02ee7fb-9a28-49ae-9918-d885f9778493",
          "showTitle": false,
          "title": ""
        },
        "id": "8u6JDY0V7ycY",
        "outputId": "1e913655-a966-4228-931f-731d793f0e6f"
      },
      "outputs": [
        {
          "data": {
            "text/plain": [
              "'Points'"
            ]
          },
          "execution_count": 112,
          "metadata": {},
          "output_type": "execute_result"
        }
      ],
      "source": [
        "lr_clf.predict(feature_gen(\"any discount on amount\"))[0]"
      ]
    },
    {
      "cell_type": "code",
      "execution_count": null,
      "metadata": {
        "application/vnd.databricks.v1+cell": {
          "inputWidgets": {},
          "nuid": "f98cc1e6-c12b-4ef7-8ef4-74791e9cf3d5",
          "showTitle": false,
          "title": ""
        },
        "id": "kJpa7vij7ycY",
        "outputId": "e9e6371c-62bd-4af5-ea4d-2cce82adb6ab"
      },
      "outputs": [
        {
          "data": {
            "text/plain": [
              "'Others'"
            ]
          },
          "execution_count": 113,
          "metadata": {},
          "output_type": "execute_result"
        }
      ],
      "source": [
        "lr_clf.predict(feature_gen(\"How can I apply offer\"))[0]"
      ]
    },
    {
      "cell_type": "code",
      "execution_count": null,
      "metadata": {
        "application/vnd.databricks.v1+cell": {
          "inputWidgets": {},
          "nuid": "57ecbffd-4b2c-4cfa-8f71-dc73925ddc16",
          "showTitle": false,
          "title": ""
        },
        "id": "yy1p34Xw7ycY",
        "outputId": "bd1e8724-bd47-4982-8a6d-4c70fe8100d8"
      },
      "outputs": [
        {
          "data": {
            "text/plain": [
              "'Others'"
            ]
          },
          "execution_count": 114,
          "metadata": {},
          "output_type": "execute_result"
        }
      ],
      "source": [
        "lr_clf.predict(feature_gen(\"any offer on amount\"))[0]"
      ]
    }
  ],
  "metadata": {
    "application/vnd.databricks.v1+notebook": {
      "dashboards": [],
      "language": "python",
      "notebookMetadata": {
        "pythonIndentUnit": 2
      },
      "notebookName": "intent_classification_originial",
      "notebookOrigID": 3952795988958820,
      "widgets": {}
    },
    "kernelspec": {
      "display_name": "venv",
      "language": "python",
      "name": "venv"
    },
    "language_info": {
      "codemirror_mode": {
        "name": "ipython",
        "version": 3
      },
      "file_extension": ".py",
      "mimetype": "text/x-python",
      "name": "python",
      "nbconvert_exporter": "python",
      "pygments_lexer": "ipython3",
      "version": "3.6.9"
    },
    "colab": {
      "provenance": []
    }
  },
  "nbformat": 4,
  "nbformat_minor": 0
}